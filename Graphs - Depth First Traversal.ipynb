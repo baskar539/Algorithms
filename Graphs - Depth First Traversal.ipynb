{
  "nbformat": 4,
  "nbformat_minor": 0,
  "metadata": {
    "colab": {
      "provenance": []
    },
    "kernelspec": {
      "name": "python3",
      "display_name": "Python 3"
    },
    "language_info": {
      "name": "python"
    }
  },
  "cells": [
    {
      "cell_type": "code",
      "execution_count": null,
      "metadata": {
        "id": "kP5k5gX_s0Q4"
      },
      "outputs": [],
      "source": []
    },
    {
      "cell_type": "markdown",
      "source": [
        "# ***DFS***"
      ],
      "metadata": {
        "id": "zp02IeaLs3Rc"
      }
    },
    {
      "cell_type": "code",
      "source": [
        "class Graph:\n",
        "  def __init__(self, size):\n",
        "    self.size = size\n",
        "    self.adj_matrix = [[0]*size for _ in range(size)]\n",
        "    self.vertex_data = [' ']*size\n",
        "\n",
        "  def add_edge(self, u,v):\n",
        "    if 0<=u<self.size and 0<=v<self.size:\n",
        "      self.adj_matrix[u][v] =1\n",
        "      self.adj_matrix[v][u] =1\n",
        "  def add_vertex_data(self, v, data):\n",
        "    if 0<=v< self.size:\n",
        "      self.vertex_data[v] = data\n",
        "  def print_matrix(self):\n",
        "    for row in self.adj_matrix:\n",
        "      print(' '.join(map(str,row)))\n",
        "  def print_edge(self):\n",
        "    for vertex, data in enumerate(self.vertex_data):\n",
        "      print(f\" Vertex {vertex} = {data}\")\n",
        "  def dfs_util(self, start_vertex,visited):\n",
        "    visited[start_vertex] =1\n",
        "    print(self.vertex_data[start_vertex],end =\" \")\n",
        "    for i in range(self.size):\n",
        "      if self.adj_matrix[start_vertex][i] ==1 and not visited[i]:\n",
        "        self.dfs_util(i,visited)\n",
        "  def dfs(self, start_vertex_data):\n",
        "    visited = [False] * self.size\n",
        "    start_vertex = self.vertex_data.index(start_vertex_data)\n",
        "    self.dfs_util(start_vertex,visited)\n",
        "\n",
        "g= Graph(6)\n",
        "\n",
        "g.add_vertex_data(0,'A')\n",
        "g.add_vertex_data(1,'B')\n",
        "g.add_vertex_data(2,'C')\n",
        "g.add_vertex_data(3,'D')\n",
        "g.add_vertex_data(4,'E')\n",
        "g.add_vertex_data(5,'F')\n",
        "\n",
        "g.add_edge(0,1)\n",
        "g.add_edge(1,2)\n",
        "g.add_edge(1,5)\n",
        "g.add_edge(0,5)\n",
        "g.add_edge(2,3)\n",
        "g.add_edge(2,4)\n",
        "g.add_edge(2,5)\n",
        "g.add_edge(2,6)\n",
        "\n",
        "\n",
        "g.print_matrix()\n",
        "g.print_edge()\n",
        "\n",
        "\n",
        "g.dfs('C')\n"
      ],
      "metadata": {
        "colab": {
          "base_uri": "https://localhost:8080/"
        },
        "id": "eAxLR47ys74J",
        "outputId": "c8722c32-c243-4f6a-a36a-6d0ab22114dc"
      },
      "execution_count": null,
      "outputs": [
        {
          "output_type": "stream",
          "name": "stdout",
          "text": [
            "0 1 0 0 0 1\n",
            "1 0 1 0 0 1\n",
            "0 1 0 1 1 1\n",
            "0 0 1 0 0 0\n",
            "0 0 1 0 0 0\n",
            "1 1 1 0 0 0\n",
            " Vertex 0 = A\n",
            " Vertex 1 = B\n",
            " Vertex 2 = C\n",
            " Vertex 3 = D\n",
            " Vertex 4 = E\n",
            " Vertex 5 = F\n",
            "C B A F D E "
          ]
        }
      ]
    }
  ]
}