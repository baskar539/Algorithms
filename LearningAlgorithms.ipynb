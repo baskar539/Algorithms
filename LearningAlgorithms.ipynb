{
  "nbformat": 4,
  "nbformat_minor": 0,
  "metadata": {
    "colab": {
      "provenance": []
    },
    "kernelspec": {
      "name": "python3",
      "display_name": "Python 3"
    },
    "language_info": {
      "name": "python"
    }
  },
  "cells": [
    {
      "cell_type": "code",
      "execution_count": null,
      "metadata": {
        "id": "DcO5bfPHzImj"
      },
      "outputs": [],
      "source": [
        "import pandas as pd\n",
        "last_names = ['Connor','Connor','Reese']\n",
        "first_names = ['Sarah', 'John','Kyle']\n",
        "df = pd.DataFrame({'First_name' : first_names, 'last_name':last_names})"
      ]
    },
    {
      "cell_type": "markdown",
      "source": [],
      "metadata": {
        "id": "VPWBkCAUKtKi"
      }
    },
    {
      "cell_type": "code",
      "source": [],
      "metadata": {
        "id": "FJ3gnMETsWTc"
      },
      "execution_count": null,
      "outputs": []
    },
    {
      "cell_type": "code",
      "source": [],
      "metadata": {
        "id": "fUuanHZyUlZK"
      },
      "execution_count": null,
      "outputs": []
    },
    {
      "cell_type": "code",
      "source": [],
      "metadata": {
        "id": "R7g0U4vxUmj0"
      },
      "execution_count": null,
      "outputs": []
    },
    {
      "cell_type": "code",
      "source": [],
      "metadata": {
        "id": "nXCgXtBoHxRf"
      },
      "execution_count": null,
      "outputs": []
    },
    {
      "cell_type": "code",
      "source": [
        "df"
      ],
      "metadata": {
        "colab": {
          "base_uri": "https://localhost:8080/",
          "height": 530
        },
        "id": "gMH6Q5sti1qm",
        "outputId": "544c57e4-1c1e-4af3-ff6e-e60742b7074a"
      },
      "execution_count": null,
      "outputs": [
        {
          "output_type": "execute_result",
          "data": {
            "text/plain": [
              "  First_name last_name\n",
              "0      Sarah    Connor\n",
              "1       John    Connor\n",
              "2       Kyle     Reese"
            ],
            "text/html": [
              "\n",
              "  <div id=\"df-74616a36-6801-4061-b869-3b129567bbd4\" class=\"colab-df-container\">\n",
              "    <div>\n",
              "<style scoped>\n",
              "    .dataframe tbody tr th:only-of-type {\n",
              "        vertical-align: middle;\n",
              "    }\n",
              "\n",
              "    .dataframe tbody tr th {\n",
              "        vertical-align: top;\n",
              "    }\n",
              "\n",
              "    .dataframe thead th {\n",
              "        text-align: right;\n",
              "    }\n",
              "</style>\n",
              "<table border=\"1\" class=\"dataframe\">\n",
              "  <thead>\n",
              "    <tr style=\"text-align: right;\">\n",
              "      <th></th>\n",
              "      <th>First_name</th>\n",
              "      <th>last_name</th>\n",
              "    </tr>\n",
              "  </thead>\n",
              "  <tbody>\n",
              "    <tr>\n",
              "      <th>0</th>\n",
              "      <td>Sarah</td>\n",
              "      <td>Connor</td>\n",
              "    </tr>\n",
              "    <tr>\n",
              "      <th>1</th>\n",
              "      <td>John</td>\n",
              "      <td>Connor</td>\n",
              "    </tr>\n",
              "    <tr>\n",
              "      <th>2</th>\n",
              "      <td>Kyle</td>\n",
              "      <td>Reese</td>\n",
              "    </tr>\n",
              "  </tbody>\n",
              "</table>\n",
              "</div>\n",
              "    <div class=\"colab-df-buttons\">\n",
              "\n",
              "  <div class=\"colab-df-container\">\n",
              "    <button class=\"colab-df-convert\" onclick=\"convertToInteractive('df-74616a36-6801-4061-b869-3b129567bbd4')\"\n",
              "            title=\"Convert this dataframe to an interactive table.\"\n",
              "            style=\"display:none;\">\n",
              "\n",
              "  <svg xmlns=\"http://www.w3.org/2000/svg\" height=\"24px\" viewBox=\"0 -960 960 960\">\n",
              "    <path d=\"M120-120v-720h720v720H120Zm60-500h600v-160H180v160Zm220 220h160v-160H400v160Zm0 220h160v-160H400v160ZM180-400h160v-160H180v160Zm440 0h160v-160H620v160ZM180-180h160v-160H180v160Zm440 0h160v-160H620v160Z\"/>\n",
              "  </svg>\n",
              "    </button>\n",
              "\n",
              "  <style>\n",
              "    .colab-df-container {\n",
              "      display:flex;\n",
              "      gap: 12px;\n",
              "    }\n",
              "\n",
              "    .colab-df-convert {\n",
              "      background-color: #E8F0FE;\n",
              "      border: none;\n",
              "      border-radius: 50%;\n",
              "      cursor: pointer;\n",
              "      display: none;\n",
              "      fill: #1967D2;\n",
              "      height: 32px;\n",
              "      padding: 0 0 0 0;\n",
              "      width: 32px;\n",
              "    }\n",
              "\n",
              "    .colab-df-convert:hover {\n",
              "      background-color: #E2EBFA;\n",
              "      box-shadow: 0px 1px 2px rgba(60, 64, 67, 0.3), 0px 1px 3px 1px rgba(60, 64, 67, 0.15);\n",
              "      fill: #174EA6;\n",
              "    }\n",
              "\n",
              "    .colab-df-buttons div {\n",
              "      margin-bottom: 4px;\n",
              "    }\n",
              "\n",
              "    [theme=dark] .colab-df-convert {\n",
              "      background-color: #3B4455;\n",
              "      fill: #D2E3FC;\n",
              "    }\n",
              "\n",
              "    [theme=dark] .colab-df-convert:hover {\n",
              "      background-color: #434B5C;\n",
              "      box-shadow: 0px 1px 3px 1px rgba(0, 0, 0, 0.15);\n",
              "      filter: drop-shadow(0px 1px 2px rgba(0, 0, 0, 0.3));\n",
              "      fill: #FFFFFF;\n",
              "    }\n",
              "  </style>\n",
              "\n",
              "    <script>\n",
              "      const buttonEl =\n",
              "        document.querySelector('#df-74616a36-6801-4061-b869-3b129567bbd4 button.colab-df-convert');\n",
              "      buttonEl.style.display =\n",
              "        google.colab.kernel.accessAllowed ? 'block' : 'none';\n",
              "\n",
              "      async function convertToInteractive(key) {\n",
              "        const element = document.querySelector('#df-74616a36-6801-4061-b869-3b129567bbd4');\n",
              "        const dataTable =\n",
              "          await google.colab.kernel.invokeFunction('convertToInteractive',\n",
              "                                                    [key], {});\n",
              "        if (!dataTable) return;\n",
              "\n",
              "        const docLinkHtml = 'Like what you see? Visit the ' +\n",
              "          '<a target=\"_blank\" href=https://colab.research.google.com/notebooks/data_table.ipynb>data table notebook</a>'\n",
              "          + ' to learn more about interactive tables.';\n",
              "        element.innerHTML = '';\n",
              "        dataTable['output_type'] = 'display_data';\n",
              "        await google.colab.output.renderOutput(dataTable, element);\n",
              "        const docLink = document.createElement('div');\n",
              "        docLink.innerHTML = docLinkHtml;\n",
              "        element.appendChild(docLink);\n",
              "      }\n",
              "    </script>\n",
              "  </div>\n",
              "\n",
              "\n",
              "<div id=\"df-9481296f-b51a-4995-a397-1ae853b5c7d0\">\n",
              "  <button class=\"colab-df-quickchart\" onclick=\"quickchart('df-9481296f-b51a-4995-a397-1ae853b5c7d0')\"\n",
              "            title=\"Suggest charts\"\n",
              "            style=\"display:none;\">\n",
              "\n",
              "<svg xmlns=\"http://www.w3.org/2000/svg\" height=\"24px\"viewBox=\"0 0 24 24\"\n",
              "     width=\"24px\">\n",
              "    <g>\n",
              "        <path d=\"M19 3H5c-1.1 0-2 .9-2 2v14c0 1.1.9 2 2 2h14c1.1 0 2-.9 2-2V5c0-1.1-.9-2-2-2zM9 17H7v-7h2v7zm4 0h-2V7h2v10zm4 0h-2v-4h2v4z\"/>\n",
              "    </g>\n",
              "</svg>\n",
              "  </button>\n",
              "\n",
              "<style>\n",
              "  .colab-df-quickchart {\n",
              "      --bg-color: #E8F0FE;\n",
              "      --fill-color: #1967D2;\n",
              "      --hover-bg-color: #E2EBFA;\n",
              "      --hover-fill-color: #174EA6;\n",
              "      --disabled-fill-color: #AAA;\n",
              "      --disabled-bg-color: #DDD;\n",
              "  }\n",
              "\n",
              "  [theme=dark] .colab-df-quickchart {\n",
              "      --bg-color: #3B4455;\n",
              "      --fill-color: #D2E3FC;\n",
              "      --hover-bg-color: #434B5C;\n",
              "      --hover-fill-color: #FFFFFF;\n",
              "      --disabled-bg-color: #3B4455;\n",
              "      --disabled-fill-color: #666;\n",
              "  }\n",
              "\n",
              "  .colab-df-quickchart {\n",
              "    background-color: var(--bg-color);\n",
              "    border: none;\n",
              "    border-radius: 50%;\n",
              "    cursor: pointer;\n",
              "    display: none;\n",
              "    fill: var(--fill-color);\n",
              "    height: 32px;\n",
              "    padding: 0;\n",
              "    width: 32px;\n",
              "  }\n",
              "\n",
              "  .colab-df-quickchart:hover {\n",
              "    background-color: var(--hover-bg-color);\n",
              "    box-shadow: 0 1px 2px rgba(60, 64, 67, 0.3), 0 1px 3px 1px rgba(60, 64, 67, 0.15);\n",
              "    fill: var(--button-hover-fill-color);\n",
              "  }\n",
              "\n",
              "  .colab-df-quickchart-complete:disabled,\n",
              "  .colab-df-quickchart-complete:disabled:hover {\n",
              "    background-color: var(--disabled-bg-color);\n",
              "    fill: var(--disabled-fill-color);\n",
              "    box-shadow: none;\n",
              "  }\n",
              "\n",
              "  .colab-df-spinner {\n",
              "    border: 2px solid var(--fill-color);\n",
              "    border-color: transparent;\n",
              "    border-bottom-color: var(--fill-color);\n",
              "    animation:\n",
              "      spin 1s steps(1) infinite;\n",
              "  }\n",
              "\n",
              "  @keyframes spin {\n",
              "    0% {\n",
              "      border-color: transparent;\n",
              "      border-bottom-color: var(--fill-color);\n",
              "      border-left-color: var(--fill-color);\n",
              "    }\n",
              "    20% {\n",
              "      border-color: transparent;\n",
              "      border-left-color: var(--fill-color);\n",
              "      border-top-color: var(--fill-color);\n",
              "    }\n",
              "    30% {\n",
              "      border-color: transparent;\n",
              "      border-left-color: var(--fill-color);\n",
              "      border-top-color: var(--fill-color);\n",
              "      border-right-color: var(--fill-color);\n",
              "    }\n",
              "    40% {\n",
              "      border-color: transparent;\n",
              "      border-right-color: var(--fill-color);\n",
              "      border-top-color: var(--fill-color);\n",
              "    }\n",
              "    60% {\n",
              "      border-color: transparent;\n",
              "      border-right-color: var(--fill-color);\n",
              "    }\n",
              "    80% {\n",
              "      border-color: transparent;\n",
              "      border-right-color: var(--fill-color);\n",
              "      border-bottom-color: var(--fill-color);\n",
              "    }\n",
              "    90% {\n",
              "      border-color: transparent;\n",
              "      border-bottom-color: var(--fill-color);\n",
              "    }\n",
              "  }\n",
              "</style>\n",
              "\n",
              "  <script>\n",
              "    async function quickchart(key) {\n",
              "      const quickchartButtonEl =\n",
              "        document.querySelector('#' + key + ' button');\n",
              "      quickchartButtonEl.disabled = true;  // To prevent multiple clicks.\n",
              "      quickchartButtonEl.classList.add('colab-df-spinner');\n",
              "      try {\n",
              "        const charts = await google.colab.kernel.invokeFunction(\n",
              "            'suggestCharts', [key], {});\n",
              "      } catch (error) {\n",
              "        console.error('Error during call to suggestCharts:', error);\n",
              "      }\n",
              "      quickchartButtonEl.classList.remove('colab-df-spinner');\n",
              "      quickchartButtonEl.classList.add('colab-df-quickchart-complete');\n",
              "    }\n",
              "    (() => {\n",
              "      let quickchartButtonEl =\n",
              "        document.querySelector('#df-9481296f-b51a-4995-a397-1ae853b5c7d0 button');\n",
              "      quickchartButtonEl.style.display =\n",
              "        google.colab.kernel.accessAllowed ? 'block' : 'none';\n",
              "    })();\n",
              "  </script>\n",
              "</div>\n",
              "    </div>\n",
              "  </div>\n"
            ],
            "application/vnd.google.colaboratory.intrinsic+json": {
              "type": "dataframe",
              "variable_name": "df",
              "summary": "{\n  \"name\": \"df\",\n  \"rows\": 3,\n  \"fields\": [\n    {\n      \"column\": \"First_name\",\n      \"properties\": {\n        \"dtype\": \"string\",\n        \"num_unique_values\": 3,\n        \"samples\": [\n          \"Sarah\",\n          \"John\",\n          \"Kyle\"\n        ],\n        \"semantic_type\": \"\",\n        \"description\": \"\"\n      }\n    },\n    {\n      \"column\": \"last_name\",\n      \"properties\": {\n        \"dtype\": \"string\",\n        \"num_unique_values\": 2,\n        \"samples\": [\n          \"Reese\",\n          \"Connor\"\n        ],\n        \"semantic_type\": \"\",\n        \"description\": \"\"\n      }\n    }\n  ]\n}"
            }
          },
          "metadata": {},
          "execution_count": 5
        },
        {
          "output_type": "display_data",
          "data": {
            "text/plain": [
              "<google.colab._quickchart_helpers.SectionTitle at 0x7e15687d86d0>"
            ],
            "text/html": [
              "<h4 class=\"colab-quickchart-section-title\">Categorical distributions</h4>\n",
              "<style>\n",
              "  .colab-quickchart-section-title {\n",
              "      clear: both;\n",
              "  }\n",
              "</style>"
            ]
          },
          "metadata": {}
        },
        {
          "output_type": "display_data",
          "data": {
            "text/plain": [
              "from matplotlib import pyplot as plt\n",
              "import seaborn as sns\n",
              "df.groupby('First_name').size().plot(kind='barh', color=sns.palettes.mpl_palette('Dark2'))\n",
              "plt.gca().spines[['top', 'right',]].set_visible(False)"
            ],
            "text/html": [
              "      <div class=\"colab-quickchart-chart-with-code\" id=\"chart-f9d85e4d-5d74-4f82-8bba-6560428334ad\">\n",
              "        <img style=\"width: 180px;\" src=\"data:image/png;base64,iVBORw0KGgoAAAANSUhEUgAAAjoAAAGZCAYAAACAKJsdAAAAOXRFWHRTb2Z0d2FyZQBNYXRwbG90\n",
              "bGliIHZlcnNpb24zLjcuMSwgaHR0cHM6Ly9tYXRwbG90bGliLm9yZy/bCgiHAAAACXBIWXMAAA9h\n",
              "AAAPYQGoP6dpAAAZO0lEQVR4nO3deXBV9dnA8eeSaBgKRMQiFIQAxbIo0AiIShFQ+6ZTcWutVmtx\n",
              "QXGZEUFrB7XqS1FwfW1rq3RzGW1rVapt1T8UqXUpBQ2MqKNlCWDZ3cBaDISc9w+nmaYuDTc33Pjj\n",
              "85m5Y3Jy7r1PfsN4v3POyb25LMuyAABIUJtiDwAA0FKEDgCQLKEDACRL6AAAyRI6AECyhA4AkCyh\n",
              "AwAkS+gAAMkSOgBAsoRORPzgBz8o9ggAQAsQOhGxatWqYo8AALQAoQMAJEvoAADJEjoAQLKEDgCQ\n",
              "LKEDACRL6AAAyRI6AECyhA4AkCyhAwAkS+gAAMkSOgBAsoQOAJAsoQMAJEvoAADJEjoAQLKEDgCQ\n",
              "LKEDACRL6AAAyRI6AECyhA4AkCyhAwAkS+gAAMkSOgBAsoQOAJAsoQMAJEvoAADJEjoAQLKEDgCQ\n",
              "rFyWZVmxhyi2YZXHxbjDJxZ7DABIyvX/d3SxR3BEBwBIl9ABAJIldACAZAkdACBZQgcASJbQAQCS\n",
              "JXQAgGQJHQAgWUIHAEiW0AEAkiV0AIBkCR0AIFlCBwBIltABAJIldACAZAkdACBZQgcASJbQAQCS\n",
              "JXQAgGQJHQAgWUIHAEiW0AEAkiV0AIBkCR0AIFlCBwBIltABAJIldACAZLV46MyZMycOOuigGDp0\n",
              "aPTv3z/GjRsX9fX1BXv8q6++Oi666KKCPR4AkI7SlnzwdevWxTnnnBMvvPBC9OrVKyIiqqurI5fL\n",
              "Nfkx6urqorS0RccEABLVokd0NmzYECUlJbH33ns3bKusrIxcLheXXHJJDB8+PIYOHRqjR4+O1157\n",
              "rWGfXC4XV111VQwfPjymTZsWS5YsiVGjRkVlZWUMHDgwZsyY0eh51q1bF+PHj4+BAwfGuHHj4q23\n",
              "3vrYmWpra2PLli2NblkBjzABAK1Hi4bO4MGDY9SoUdGrV684/vjj44Ybbog1a9ZERMR3v/vdWLhw\n",
              "YSxevDjOP//8mDx5cqP7lpSUxMKFC+OGG26IioqKmDt3blRXV8cLL7wQDz74YMyfP79h37/+9a9x\n",
              "5513xiuvvBJdunSJ2bNnf+xMM2fOjPLy8ka3dRv+1jILAAAUVYuGTps2beLBBx+M5557LqqqquLZ\n",
              "Z5+NQYMGxbJly+Lxxx+PQw45JA444ICYPn16LF68uNF9zzzzzIavt27dGhMnTowDDzwwRo4cGatW\n",
              "rWq0f1VVVXTu3DkiIg455JBYvnz5x840bdq02Lx5c6Nbt333L+jvDQC0Drvk4pf+/ftH//79Y9Kk\n",
              "SVFVVRW/+tWv4pZbbomFCxdG375948UXX4zRo0c3uk/79u0bvr7ssstin332iUWLFkVpaWmccMIJ\n",
              "8f777zf8vG3btg1fl5SURF1d3cfOUlZWFmVlZY225dr44zMASFGLvsKvWbMmnn322Ybv33777aip\n",
              "qYny8vLYY489olu3bpFlWdx6662f+Dhvv/129OjRI0pLS+O1116Lxx9/vCXHBgAS0aJHdOrq6mL6\n",
              "9OlRU1MT7dq1i7q6upgwYUJMnjw5VqxYEYMGDYrOnTvHcccd94mPc8UVV8Rpp50Wd911V/Tt2zfG\n",
              "jRvXkmMDAInIZVmWFXuIYhtWeVyMO3xisccAgKRc/39HF3sE74wMAKRL6AAAyRI6AECyhA4AkCyh\n",
              "AwAkS+gAAMkSOgBAsoQOAJAsoQMAJEvoAADJEjoAQLKEDgCQLKEDACRL6AAAyRI6AECyhA4AkCyh\n",
              "AwAkS+gAAMkSOgBAsoQOAJAsoQMAJEvoAADJEjoAQLKEDgCQLKEDACSrtNgDtAajx/SJ628+uthj\n",
              "AAAF5ogOAJAsoQMAJEvoAADJEjoAQLKEDgCQLKEDACRL6AAAyRI6AECyhA4AkCyhAwAkS+gAAMkS\n",
              "OgBAsoQOAJAsoQMAJEvoAADJEjoAQLKEDgCQLKEDACRL6AAAyRI6AECyhA4AkCyhAwAkS+gAAMkS\n",
              "OgBAsoQOAJAsoQMAJEvoAADJEjoAQLKEDgCQLKEDACRL6AAAyRI6AECyhA4AkCyhAwAkS+gAAMkS\n",
              "OgBAsoQOAJAsoQMAJEvoAADJEjoAQLKEDgCQLKEDACRL6AAAyRI6AECyhA4AkCyhAwAkS+gAAMkS\n",
              "OgBAsoQOAJAsoQMAJEvoAADJEjoAQLKEDgCQLKEDACRL6AAAyRI6AECyhA4AkCyhAwAkS+gAAMkS\n",
              "OgBAsoQOAJCsXJZlWbGHKLYzBuVi2nDNBwCFtP+dO4o9giM6AEC6hA4AkKy8Q2fdunXxpz/9KSIi\n",
              "6urqYtu2bYWaCQCgIPIKnQceeCBGjhwZp59+ekREvPzyy3HccccVcCwAgObLK3RmzpwZ1dXV0alT\n",
              "p4iIGDJkSKxataqggwEANFdeoVNSUhKdO3dutG3PPfcsyEAAAIWSV+h06NAhNmzYELlcLiIi5s6d\n",
              "G3vvvXdBBwMAaK7SfO503XXXxVe+8pVYsWJFjBo1KmpqauKRRx4p9GwAAM2SV+gMGzYs5s2bF889\n",
              "91xkWRaHHnpo7LXXXgUeDQCgefIKnYiI8vLyOOyww6Kuri7q6+vjrbfecvoKAGhV8rpG57777osu\n",
              "XbpE586do2vXrrHvvvtG165dCz0bAECz5BU606ZNi0cffTS2b98e27Zta/gvAEBrklfodO3aNYYN\n",
              "G1boWQAACiqva3TOOeecuPbaa+PrX/96tG3btmF7z549CzYYAEBz5RU6tbW1MWPGjLjxxhujpKQk\n",
              "IiJyuVxs3LixoMMBADRHXqFz7bXXxpIlS6Jv376FngcAoGDyukanR48eIgcAaPXyOqIzbty4uPji\n",
              "i+Okk05qdI3O4MGDCzYYAEBz5RU699xzT0REzJkzp2FbLpeLFStWFGYqAIACyCt0ampqCj0HAEDB\n",
              "5f0REBEf/PVVbW1tw/cdO3Zs9kAAAIWS18XI8+fPjwEDBkS7du2iU6dODTcAgNYkryM6kydPjjvv\n",
              "vDPOPffc+POf/xw//OEPG12UDADQGuR1RGf79u1x8MEHR11dXXTo0CEuv/zy+M1vflPo2QAAmiWv\n",
              "0Nljjz0iIqJz585RXV0dmzZtik2bNhV0MACA5srr1NXJJ58cb775Zlx22WVx+OGHx/bt22PGjBmF\n",
              "ng0AoFnyOqIzZcqU6Ny5c3z5y1+Ot956KzZt2hSXXHJJ3kNUVFTE4sWLIyLi/fffj2OPPTZOPPHE\n",
              "2LZt23/dHwDg4+T95+Xr1q2LmpqaqKura9g2evToZg3z7rvvxjHHHBP9+vWL22+/Pdq0yavDAAAi\n",
              "Is/Queaaa+KGG26IPn36NPr08gULFuQ9yJtvvhlnn312HHHEEXH11VfH5z73uVi4cGHst99+ERFx\n",
              "2WWXxY4dO+K6665rdL/169fHhRdeGCtXroytW7fGscce+4mn0f7zvX8iInbU5z02ANCK5XXI5Je/\n",
              "/GUsX748qqurY+HChbFw4cJmRU5ExEknnRRHHnlkzJo1K9q2bRtnnXVW3HbbbRHxQZzccccdcf75\n",
              "53/ofhMmTIgLLrggFixYEIsWLYrnn38+7r///o99npkzZ0Z5eXmj24tvNGt0AKCVyit09t133+jc\n",
              "uXNBB/nqV78aDzzwQLz++usREXH++efHXXfdFbW1tXH//ffHiBEjolevXo3u895778XcuXNj8uTJ\n",
              "MXTo0Bg2bFgsW7YsXnvttY99nmnTpsXmzZsb3QbvU9BfBQBoJfI6dXXUUUfFRRddFKecckrBPr18\n",
              "ypQpMWTIkBgzZkzMmzcvevbsGaNHj4777rsvbrvttpg+ffqH7pNlWUR88E7NTX3DwrKysigrK2u0\n",
              "rcSlQACQpLxC5+67746IiIcffrhhWyE+vXzq1KnRpk2bhtiZPHlynHjiidG+ffs48sgjP7R/+/bt\n",
              "Y+zYsTFr1qy4+uqrIyJi7dq1UV9fHz169GjWLADAp1+LfHp5TU1N9O7dO6+BLrroomjTpk0cfvjh\n",
              "MW/evCgvL49JkyZFLpf7yP3vvffemDp1ahxwwAGRy+XiM5/5TMyePVvoAACRy/51/qeAKisro7q6\n",
              "utmPs2bNmhg2bFj87W9/iw4dOhRgso92xqBcTBvu/BUAFNL+d+4o9gj5XYz83xSina688so4+OCD\n",
              "Y9asWS0aOQBAulokdD7uNNPOmD59evz973+PCRMmFGAiAGB35HwNAJCsVnvqCgCgufIKnRdffPET\n",
              "t51wwgn5TwQAUCB5hc7pp5/+idu+973v5TsPAEDB7NT76GzcuDHWr18fW7dujSVLljScotq8eXO8\n",
              "9957LTIgAEC+dip0fv3rX8ctt9wSa9eujWOOOaZhe8eOHePSSy8t+HAAAM2R1xsGfv/730/q9JQ3\n",
              "DASAwvvUvmFgVVVV/POf/4yIiN/+9rdxySWXxNq1aws6GABAc+UVOhMnToyysrJYunRpXH755bHH\n",
              "HnvEGWecUejZAACaJa/QKSkpiZKSknjsscfivPPOi5kzZ8bGjRsLPRsAQLPkFTq1tbWxYcOG+MMf\n",
              "/hBjxoyJiIgdO4p/Hg4A4N/lFTpTpkyJL3zhC1FeXh6VlZWxfPny6NSpU6FnAwBolp368/KID47c\n",
              "dOrUKd55552GbRUVFfH4448Xci4AgGbb6SM6JSUlcc0113xo25577lmwoQAACiGvU1eVlZXxzDPP\n",
              "FHoWAICC2ulTVxER8+fPjzvvvDP69OkT7du3b9heXV1dsMEAAJorr9D58Y9/XOg5AAAKLq/QOfzw\n",
              "wws9BwBAwe1U6Fx88cVx0003xfHHHx+5XO5DP58zZ07BBgMAaK6dCp2HH344brrppjjuuOPi7bff\n",
              "9t45AECrtlOh06FDh4iImDBhQlRWVrr4GABo1Xbqz8v//XRVlmUFHwYAoJB26ojO1q1bY8mSJZFl\n",
              "Wbz//vsNX//L4MGDCz4gAEC+ctlOHJqpqKj4yIuQIz442rNixYqCDbYrTZ06NW6++eZijwEAFNhO\n",
              "HdFZuXJlC40BAFB4eX0EBADAp4HQAQCSJXQAgGQJHQAgWUIHAEiW0AEAkiV0AIBkCR0AIFlCBwBI\n",
              "ltABAJIldACAZAkdACBZQgcASJbQAQCSJXQAgGQJHQAgWUIHAEiW0AEAkiV0AIBkCR0AIFlCBwBI\n",
              "ltABAJIldACAZAkdACBZQgcASJbQAQCSJXQAgGQJHQAgWUIHAEiW0AEAkiV0AIBkCR0AIFlCBwBI\n",
              "ltABAJIldACAZAkdACBZQgcASJbQAQCSJXQAgGQJHQAgWUIHAEiW0AEAkiV0AIBkCR0AIFlCBwBI\n",
              "ltABAJIldACAZAkdACBZQgcASJbQAQCSJXQAgGQJHQAgWUIHAEiW0AEAkiV0AIBkCR0AIFlCBwBI\n",
              "ltABAJIldACAZAkdACBZuSzLsmIPUWzt/2d47HXyEcUeAwCS8vczZhV7BEd0AIB0CR0AIFlCBwBI\n",
              "ltABAJIldACAZAkdACBZQgcASJbQAQCSJXQAgGQJHQAgWUIHAEiW0AEAkiV0AIBkCR0AIFlCBwBI\n",
              "ltABAJIldACAZAkdACBZQgcASJbQAQCSJXQAgGQJHQAgWUIHAEiW0AEAkiV0AIBkCR0AIFlFD52K\n",
              "iopYvHjxJ+6Ty+XinXfe2SXzAADpKHroAAC0lFYTOsuWLYsjjzwyBg8eHEOHDo2HHnqo0c9/8pOf\n",
              "xIgRI6J3795xxx13NGyvqKiIK6+8Mg455JDo3bt3zJgxYxdPDgC0VqXFHuBfTj311DjzzDNj0qRJ\n",
              "sXTp0hg5cmR88YtfjF69ekVERFlZWSxYsCBeffXVGD58eJx22mlRWvrB+O+880785S9/iTfeeCP6\n",
              "9u0bZ5xxRnTv3v0jn6e2tjZqa2sbb9yRtejvBgAUR6s4ovPuu+9GdXV1nHXWWRER0a9fvxg1alQ8\n",
              "/fTTDfuceuqpERHRv3//KC0tjfXr1zf87JRTTomIiH322Sf69OkTNTU1H/tcM2fOjPLy8ka3bTXr\n",
              "WuLXAgCKrFWEzkfJ5XKNvm/btm3D1yUlJVFXV9ekn/2nadOmxebNmxvd9uzdrYCTAwCtRasInQ4d\n",
              "OkRlZWXDtTfLli2LZ555JkaPHl3w5yorK4uOHTs2ukVJ7r/fEQD41Cn6NTp1dXXRtm3buPfee+Pc\n",
              "c8+NW2+9NXK5XPz85z+Pnj17Fns8AOBTrKihs27dutiyZUv07Nkz2rVrF0888cRH7pdljS8WfuON\n",
              "Nxq+XrlyZaOfPf/88wWfEwD4dCraqaubb745xowZEzfeeGO0a9euWGMAAAnLZf95uGQ31P5/hsde\n",
              "Jx9R7DEAICl/P2NWsUdoHRcjAwC0BKEDACRL6AAAyRI6AECyhA4AkCyhAwAkS+gAAMkSOgBAsoQO\n",
              "AJAsoQMAJEvoAADJEjoAQLKEDgCQLKEDACRL6AAAyRI6AECyhA4AkCyhAwAkS+gAAMkSOgBAsoQO\n",
              "AJAsoQMAJEvoAADJKi32AK3BOYO+FDefMavYYwAABeaIDgCQLKEDACRL6AAAyRI6AECyhA4AkCyh\n",
              "AwAkS+gAAMkSOgBAsoQOAJAsoQMAJEvoAADJEjoAQLKEDgCQLKEDACRL6AAAyRI6AECyhA4AkCyh\n",
              "AwAkS+gAAMkSOgBAsoQOAJAsoQMAJEvoAADJEjoAQLKEDgCQLKEDACRL6AAAyRI6AECyhA4AkCyh\n",
              "AwAkq7TYAxRbbW1tPPbYY7Fjx44oKSkp9ji7jR07dsSCBQtixIgR1n0Xs/bFYd2Lx9oXx65Y9169\n",
              "esXkyZM/cZ9clmVZizz7p8SWLVuivLw8Nm/eHB07diz2OLsN61481r44rHvxWPviaC3r7tQVAJAs\n",
              "oQMAJEvoAADJ2u1Dp6ysLK666qooKysr9ii7FetePNa+OKx78Vj74mgt677bX4wMAKRrtz+iAwCk\n",
              "S+gAAMkSOgBAsnab0Fm6dGkceuihsf/++8fw4cPj5Zdf/sj9fvGLX0S/fv2ib9++cfbZZ8f27dt3\n",
              "8aRpacq6P/nkkzFixIgYOHBgDBo0KC699NKor68vwrTpaOq/94iILMti3Lhxsddee+26ARPW1LVf\n",
              "smRJjBkzJgYMGBADBgyIOXPm7OJJ09KUda+vr4+pU6fGwIEDY/DgwTF27NhYtmxZEaZNx4UXXhgV\n",
              "FRWRy+Vi8eLFH7tfUV9bs93E2LFjszvuuCPLsiy7//77s2HDhn1onxUrVmTdunXL1q1bl9XX12fj\n",
              "x4/Pbr311l08aVqasu7V1dXZ8uXLsyzLsq1bt2aHHXZYw33IT1PW/V9uuummbOLEiVl5efmuGS5x\n",
              "TVn79957L+vdu3f29NNPZ1mWZXV1ddnGjRt35ZjJacq6/+53v8tGjBiRbdu2LcuyLPv+97+fnXji\n",
              "ibtyzOQ89dRT2euvv5716tUrW7Ro0UfuU+zX1t0idDZs2JB16NAh2759e5ZlWVZfX5/tu+++2dKl\n",
              "Sxvtd/3112eTJk1q+P6RRx7JDjvssF06a0qauu7/6YILLsiuuuqqXTBhmnZm3V966aXsS1/6UrZs\n",
              "2TKhUwBNXfuf/exn2Te/+c1ijJikpq77Qw89lA0ZMiTbsmVLVl9fn33nO9/JpkyZUoyRk/NJoVPs\n",
              "19bd4tTV66+/Ht26dYvS0g8+wzSXy0XPnj1j9erVjfZbvXp19OrVq+H7ioqKD+1D0zV13f/d+vXr\n",
              "44EHHoijjz56V42ZnKau+/bt2+Pss8+O2bNn+6DDAmnq2r/yyitRVlYWRx99dAwdOjS+/e1vx6ZN\n",
              "m4oxchKauu7jx4+PMWPGRNeuXaNbt24xd+7cmD59ejFG3q0U+7V1twgdPh22bNkS48ePj0svvTSG\n",
              "DRtW7HGS97//+79xwgknxIABA4o9ym6nrq4unnjiiZg9e3YsWrQounfvHuedd16xx0re888/Hy+9\n",
              "9FKsWbMm1q5dG0cccUSce+65xR6LFrZbhM5+++0X69ati7q6uoj44OLL1atXR8+ePRvt17Nnz1i1\n",
              "alXD9ytXrvzQPjRdU9c9IuLdd9+NqqqqOPbYY2Pq1Km7etSkNHXdn3rqqfjRj34UFRUVMWrUqNiy\n",
              "ZUtUVFQ4stAMO/P/mrFjx0b37t0jl8vFt771rZg/f34xRk5CU9f97rvvbrjwvk2bNjFhwoSYN29e\n",
              "MUberRT7tXW3CJ0uXbpEZWVl3HPPPRER8eCDD0aPHj3i85//fKP9vva1r8Xvf//7WL9+fWRZFrff\n",
              "fnucfPLJxRg5CU1d93/84x9RVVUVVVVVccUVVxRj1KQ0dd2ffvrpWLVqVaxcuTKeeeaZ6NixY6xc\n",
              "uTI++9nPFmPsJDR17b/xjW/EwoULY8uWLRER8eijj8aQIUN2+bypaOq69+nTJ5588snYtm1bRET8\n",
              "8Y9/jAMOOGCXz7u7Kfpr6y67GqjIXn311WzkyJFZv379soMOOih78cUXsyzLsrPOOit7+OGHG/b7\n",
              "6U9/mvXp0yfr06dPduaZZzZcnU9+mrLuM2bMyEpLS7MhQ4Y03GbMmFHMsT/1mvrv/V9qampcjFwg\n",
              "TV37u+++Oxs0aFB24IEHZlVVVdnq1auLNXISmrLu77//fjZx4sSsf//+2YEHHpgdddRRDX/xSX7O\n",
              "OeecrHv37llJSUnWpUuXrG/fvlmWta7XVp91BQAka7c4dQUA7J6EDgCQLKEDACRL6AAAyRI6AECy\n",
              "hA4AkCyhAwAkS+gAAMkSOgBAsoQOAJAsoQMAJOv/AYimSb/IcvUEAAAAAElFTkSuQmCC\n",
              "\">\n",
              "      </div>\n",
              "      <script type=\"text/javascript\">\n",
              "        (() => {\n",
              "          const chartElement = document.getElementById(\"chart-f9d85e4d-5d74-4f82-8bba-6560428334ad\");\n",
              "          async function getCodeForChartHandler(event) {\n",
              "            const chartCodeResponse =  await google.colab.kernel.invokeFunction(\n",
              "                'getCodeForChart', [\"chart-f9d85e4d-5d74-4f82-8bba-6560428334ad\"], {});\n",
              "            const responseJson = chartCodeResponse.data['application/json'];\n",
              "            await google.colab.notebook.addCell(responseJson.code, 'code');\n",
              "          }\n",
              "          chartElement.onclick = getCodeForChartHandler;\n",
              "        })();\n",
              "      </script>\n",
              "      <style>\n",
              "        .colab-quickchart-chart-with-code  {\n",
              "            display: block;\n",
              "            float: left;\n",
              "            border: 1px solid transparent;\n",
              "        }\n",
              "\n",
              "        .colab-quickchart-chart-with-code:hover {\n",
              "            cursor: pointer;\n",
              "            border: 1px solid #aaa;\n",
              "        }\n",
              "      </style>"
            ]
          },
          "metadata": {}
        },
        {
          "output_type": "display_data",
          "data": {
            "text/plain": [
              "from matplotlib import pyplot as plt\n",
              "import seaborn as sns\n",
              "df.groupby('last_name').size().plot(kind='barh', color=sns.palettes.mpl_palette('Dark2'))\n",
              "plt.gca().spines[['top', 'right',]].set_visible(False)"
            ],
            "text/html": [
              "      <div class=\"colab-quickchart-chart-with-code\" id=\"chart-c9ea1bed-9b07-4644-9fbd-5421fd4f5cd0\">\n",
              "        <img style=\"width: 180px;\" src=\"data:image/png;base64,iVBORw0KGgoAAAANSUhEUgAAAkIAAAGZCAYAAABltl5xAAAAOXRFWHRTb2Z0d2FyZQBNYXRwbG90\n",
              "bGliIHZlcnNpb24zLjcuMSwgaHR0cHM6Ly9tYXRwbG90bGliLm9yZy/bCgiHAAAACXBIWXMAAA9h\n",
              "AAAPYQGoP6dpAAAYoklEQVR4nO3de5DVdf348dfC0oKXXSTEDBJCUAYQkKvoJOnXy4oohingYKWk\n",
              "DGmXHzmOOpppDl4yycEhKS9MUpagiYPa5CUvY5oaYQhoCwYshFoiLDfRZT+/PxrPtEmwnM5hd8/7\n",
              "8ZjZGffz+ezZ15sPH/c5n3OWU5ZlWRYAAAlq09wDAAA0FyEEACRLCAEAyRJCAECyhBAAkCwhBAAk\n",
              "SwgBAMkSQgBAsoQQAJAsIbQHt99+e3OPAAAUiRDag9WrVzf3CABAkQghACBZQggASJYQAgCSJYQA\n",
              "gGQJIQAgWUIIAEiWEAIAkiWEAIBkCSEAIFlCCABIlhACAJIlhACAZAkhACBZQggASJYQAgCSJYQA\n",
              "gGQJIQAgWUIIAEiWEAIAkiWEAIBkCSEAIFlCCABIlhACAJIlhACAZAkhACBZQggASJYQAgCSJYQA\n",
              "gGQJIQAgWUIIAEiWEAIAkiWEAIBkCSEAIFlCCABIlhACAJIlhACAZAkhACBZQggASJYQAgCSJYQA\n",
              "gGQJIQAgWUIIAEiWEAIAkiWEAIBklWVZljX3EC3ZBf3K4sphehFagyPm7GzuEYBWxk94ACBZQggA\n",
              "SJYQAgCSJYQAgGQJIQAgWUIIAEiWEAIAkiWEAIBkCSEAIFlCCABIlhACAJIlhACAZAkhACBZQggA\n",
              "SJYQAgCSJYQAgGQJIQAgWUIIAEiWEAIAkiWEAIBkCSEAIFlCCABIlhACAJIlhACAZAkhACBZQggA\n",
              "SJYQAgCSJYQAgGQJIQAgWUIIAEiWEAIAkiWEAIBkCSEAIFlCCABIlhACAJIlhACAZAkhACBZQggA\n",
              "SJYQAgCSJYQAgGQJIQAgWeXN9Y179OgRFRUV0aFDh9i+fXtccMEFccUVVzTXOABAgpothCIifv3r\n",
              "X8egQYNi3bp10bdv3zjxxBNj+PDhzTkSAJCQFvHUWNeuXaNPnz6xevXqePvtt+Pcc8+N4cOHx1FH\n",
              "HRVXX3117riampo4/fTTY9iwYTFgwIC44447IiJi+/btMX78+Ojbt28MHDgwTjnllNzX3HfffTFi\n",
              "xIgYPHhwHH/88fHaa6/t8/UBAC1Ts94R+tgbb7wR7733Xnzxi1+MSZMmxVVXXRWjRo2K+vr6GDNm\n",
              "TMybNy/GjRsXEydOjLlz50afPn1i27Ztccwxx8SIESNi7dq1sXHjxli2bFlERGzYsCEiIl544YW4\n",
              "//7747nnnouKiop4/vnn47zzzoulS5fuco4dO3bEjh07Gm3b2VDctQMAzadZQ2j8+PHRpk2bePPN\n",
              "N2PGjBmx3377xVNPPRXvvPNO7pgtW7bEm2++GW+++WYsXbo0JkyYkNu3efPmWLZsWXzhC1+I5cuX\n",
              "xze+8Y0YNWpUjB49OiIiFixYEK+99lqMGDEi9zUbNmyI7du3R4cOHT4xz4033hjXXXddo20DOxd6\n",
              "1QBAS1GWZVnWHN+4R48e8fDDD8egQYPiySefjDPOOCNefvnlOProo2PLli3Rvn37RscvXbo0Tjnl\n",
              "lFi3bt0uH2/Lli3x9NNPx5NPPhkLFiyIxYsXx/Tp06Ndu3Yxffr0Js20qztCl46oiqtHtIhnEIE9\n",
              "OGLOzuYeAWhlWsRP+JNOOimmTp0aV199dZxwwglx00035fb9/e9/j7Vr18aRRx4ZlZWVce+99+b2\n",
              "rVixIjZs2BBr166NsrKyOPPMM+PWW2+NLMuitrY2zjzzzJg7d26sWbMmIiIaGhri1Vdf/a9zVFRU\n",
              "RGVlZaOPti3iTwgAKIYW8RqhiIhrrrkmevXqFY899ljMnDkz+vfvH2VlZbH//vvH7Nmzo1u3brFw\n",
              "4cL4zne+EzNmzIidO3dG586d45e//GUsWbIkrrzyysiyLOrr6+P888+PAQMGRETELbfcEl/60pei\n",
              "vr4+Pvzwwzj99NNj6NChzbxaAKAlaLanxlqLC/qVxZXD3BaC1sBTY8De8hMeAEiWEAIAkiWEAIBk\n",
              "CSEAIFlCCABIlhACAJIlhACAZAkhACBZQggASJYQAgCSJYQAgGQJIQAgWUIIAEiWEAIAkiWEAIBk\n",
              "CSEAIFlCCABIlhACAJIlhACAZAkhACBZQggASJYQAgCSJYQAgGQJIQAgWUIIAEiWEAIAkiWEAIBk\n",
              "CSEAIFlCCABIlhACAJIlhACAZAkhACBZQggASJYQAgCSJYQAgGQJIQAgWUIIAEiWEAIAkiWEAIBk\n",
              "CSEAIFlCCABIVnlzD9DSHXTq/4sjbrutuccAAIrAHSEAIFlCCABIlhACAJIlhACAZAkhACBZQggA\n",
              "SJYQAgCSJYQAgGQJIQAgWUIIAEiWEAIAkiWEAIBkCSEAIFlCCABIlhACAJIlhACAZAkhACBZQggA\n",
              "SJYQAgCSJYQAgGTlFUK1tbUxZsyYGDRoUERELF68OGbMmFHIuQAAii6vEJoyZUpMmDAhsiyLiIj+\n",
              "/fvHPffcU9DBAACKLa8Qevfdd2PSpEnRps2/vry8vDzKy8sLOhgAQLHlFULl5eW5u0EREe+//36j\n",
              "zwEAWoO8Quicc86JKVOmRF1dXdx1111x8sknx9e//vVCzwYAUFR5PZ/13e9+N+6///7YtGlT/O53\n",
              "v4tp06bFeeedV+jZAACKKu8X9kycODEmTpxYyFkAAPapvEJo/fr18eMf/zhqamqivr4+t/2RRx4p\n",
              "2GAAAMWWVwiNGzcuhgwZEmeddVa0bdu20DMBAOwTeYXQ1q1b44477ij0LAAA+1RevzU2ZMiQqKmp\n",
              "KfQsAAD7VF53hKZNmxbHHnts9O7dO9q3b5/b/vTTTxdsMACAYssrhCZNmhRTp06NoUOHeo0QANBq\n",
              "5f3r89dff30h5wAA2Ofyeo3QcccdF4sXLy7wKAAA+1Zed4Sef/75uOuuu6JXr16NXiO0aNGigg0G\n",
              "AFBseYWQX50HAEpBXiE0atSoQs8BALDP5RVC27dvj5kzZ8bixYvjgw8+yG1/6KGHCjYYAECx5fVi\n",
              "6YsuuihWrVoVf/jDH+KEE06I1atXR/fu3Qs9GwBAUeUVQq+99lrMmjUrKisr45vf/GY888wz8ac/\n",
              "/anQswEAFFVeIdShQ4eIiCgvL4+tW7fGgQceGP/4xz8KOhgAQLHl9RqhTp06xfvvvx+jR4+OU089\n",
              "NTp37hzdunUr9GwAAEWVVwg9+uij0bZt2/jBD34Qv/jFL2Ljxo3xla98pdCzAQAUVV4h9PH7i5WV\n",
              "lcWkSZMKOhAAwL6SVwgtWrQorrrqqnjrrbeivr4+t/2tt94q2GAAAMWWVwh99atfjUsvvTRGjhzp\n",
              "3ecBgFYr76fGpkyZUuhZAAD2qbzfff7VV18t9CwAAPtUXneEnnvuufjZz37m3ecBgFbNu88DAMkq\n",
              "yrvPn3/++XHfffflNRAAwL6S12uE9mTp0qXFeFgAgIIqSggBALQGQggASJYQAgCSVZQQ8q9NAwCt\n",
              "QV4hdNZZZ+122yuvvJLvPAAA+0xeIbRmzZpPbPOGqwBAa7NX/47Q7Nmz484774y//vWvMXjw4Nz2\n",
              "TZs2Rb9+/Qo+HABAMe1VCFVXV8eRRx4ZU6dOjRkzZuS2V1ZWxoABAwo+HABAMe1VCHXv3j26d+8e\n",
              "y5cvz23btGlT1NbWeoE0ANDq5PUaoerq6ti4cWNs2bIlBg4cGGPGjInvfe97hZ4NAKCo8gqhd955\n",
              "Jzp27BiPPfZYjB07NmpqauI3v/lNoWcDACiqvELoo48+ioiI5557Lk4++eRo165dlJfn9f6tAADN\n",
              "Jq8Q6t+/f5x22mmxcOHCOPHEE2Pbtm2FngsAoOjyuo0zZ86c+O1vfxsDBw6M/fbbL9atWxc33nhj\n",
              "oWcDACiqvEKoffv2jf4l6a5du0bXrl0LNRMAwD6R11NjNTU1cdppp8VnP/vZ6NSpU+4DAKA1ySuE\n",
              "Lrroovja174WBx10UDz77LPx5S9/OS677LJCzwYAUFR5hVBdXV2MHz8+2rRpE0cddVTMnj07Hn74\n",
              "4QKPBgBQXHmFULt27SIi4sADD4xVq1bFjh074p///GdBBwMAKLa8Xix9/PHHx3vvvReXXnppDBky\n",
              "JD71qU/FhAkTCj0bAEBRlWVZlv0vD1BbWxubNm2K/v37F2qmFmXatGlx2223NfcYAEAR7NUdobq6\n",
              "uk9sq6qqiqqqqqirq4vKysqCDQYAUGx7FUIdO3aMsrKy+PebSB9/XlZWFjt37iz4gAAAxbJXIdTQ\n",
              "0FCsOQAA9rm8fmsMAKAUCCEAIFlCCABIlhACAJIlhACAZAkhACBZQggASJYQAgCSJYQAgGQJIQAg\n",
              "WUIIAEiWEAIAkiWEAIBkCSEAIFlCCABIVlmWZVlzD9GSHXDqsOg44f+aewwAKDlrL7ipuUdwRwgA\n",
              "SJcQAgCSJYQAgGQJIQAgWUIIAEiWEAIAkiWEAIBkCSEAIFlCCABIlhACAJIlhACAZAkhACBZQggA\n",
              "SJYQAgCSJYQAgGQJIQAgWUIIAEiWEAIAkiWEAIBkCSEAIFlCCABIlhACAJIlhACAZAkhACBZQggA\n",
              "SJYQAgCSJYQAgGQJIQAgWUIIAEiWEAIAkiWEAIBkCSEAIFlCCABIlhACAJIlhACAZAkhACBZQggA\n",
              "SJYQAgCSJYQAgGQJIQAgWUIIAEhW0UOovr4+rrvuuujTp0/0798/Bg0aFBdffHFs3Lix2N8aAGC3\n",
              "yov9DSZPnhwbNmyIF198MQ466KDIsizmz58fGzZsiI4dOxb72+9SQ0NDRES0aeOGGACkrKghtGLF\n",
              "ipg3b16sWbMmDjrooIiIKCsri3POOSciIn74wx/GnDlzok2bNjFgwICYNWtWVFVVxfe///1Yvnx5\n",
              "bNu2LVauXBmf+cxnYv78+dGpU6eYM2dOzJ07Nw4++OB4/fXXo6KiIh544IHo2bPnHh9zyZIlsWXL\n",
              "lqitrY0nnngiunbtWszlAwAtXFFviSxatCh69+4dnTt3/sS+xx9/PO6555544YUXYsmSJbH//vvH\n",
              "FVdckdv/xz/+MebMmRPLli2LLl26xOzZs3P7XnnllZg+fXosWbIkTjrppLj55pub9Jgvvvhi/Pzn\n",
              "P49ly5btMoJ27NgRdXV1jT5iZ1bIPxIAoAVptueGnnzyyRg/fnzu6bGpU6fGE088kdtfXV0dn/70\n",
              "pyMiYuTIkbFy5crcvpEjR8bnP//5T+zb02OOHj06DjnkkP8604033hhVVVWNPj782/qCrBcAaHmK\n",
              "GkKDBw+OmpqaeO+99/Z4bFlZWaPP27dvn/vvtm3bRn19fZP27e4xDzjggN3OcOWVV8amTZsafXzq\n",
              "84fucXYAoHUqagj16tUrzj777Jg8eXLut8SyLIsHH3wwevbsGQ888MC/nn6KiNmzZ8cpp5zyP32/\n",
              "k0466X96zIqKiqisrGz0EW3L9vyFAECrVPTfGrvnnnvihhtuiBEjRkR5eXk0NDTE8ccfHzfffHNs\n",
              "27YtRo4c2eiFzf+L0047LV5//fWCPiYAULrKsizzauDdOODUYdFxwv819xgAUHLWXnBTc4/gX5YG\n",
              "ANIlhACAZAkhACBZQggASJYQAgCSJYQAgGQJIQAgWUIIAEiWEAIAkiWEAIBkCSEAIFlCCABIlhAC\n",
              "AJIlhACAZAkhACBZQggASJYQAgCSJYQAgGQJIQAgWUIIAEiWEAIAkiWEAIBkCSEAIFlCCABIlhAC\n",
              "AJIlhACAZAkhACBZQggASJYQAgCSJYQAgGQJIQAgWUIIAEiWEAIAkiWEAIBkCSEAIFlCCABIlhAC\n",
              "AJIlhACAZAkhACBZQggASJYQAgCSVd7cA7R0F/f7Qtx2wU3NPQYAUATuCAEAyRJCAECyhBAAkCwh\n",
              "BAAkSwgBAMkSQgBAsoQQAJAsIQQAJEsIAQDJEkIAQLKEEACQLCEEACRLCAEAyRJCAECyhBAAkCwh\n",
              "BAAkSwgBAMkSQgBAsoQQAJAsIQQAJEsIAQDJEkIAQLKEEACQLCEEACRLCAEAyRJCAECyhBAAkCwh\n",
              "BAAkSwgBAMkSQgBAsoQQAJAsIQQAJEsIAQDJEkIAQLKEEACQLCEEACRLCAEAyRJCAECyhBAAkCwh\n",
              "BAAkSwgBAMkSQgBAsoQQAJAsIQQAJEsIAQDJKm/uAVqyHTt2xOOPPx47d+6Mtm3bNvc4RbVz5854\n",
              "+eWXY/jw4dZaQqy1NFlraUpprRHFX2/37t3j29/+9h6PK8uyLCv4dy8RdXV1UVVVFZs2bYrKysrm\n",
              "HqeorLU0WWtpstbSlNJaI1rOej01BgAkSwgBAMkSQgBAsoTQblRUVMS1114bFRUVzT1K0VlrabLW\n",
              "0mStpSmltUa0nPV6sTQAkCx3hACAZAkhACBZQggASFayIVRTUxPHHntsHHHEETFs2LBYunTpLo+7\n",
              "++67o3fv3nH44YfHRRddFB999FGT9rUkTVnr008/HcOHD4++fftGv3794vLLL4+GhoaIiFi1alW0\n",
              "bds2Bg0alPtYuXLlvl5GkzRlrc8880x06NCh0Xq2b9+e219K5/Xee+9ttM7OnTvHuHHjIqL1nNdv\n",
              "fetb0aNHjygrK4vFixf/1+NK4VptylpL5VptylpL5VptylpL4VqNiPjggw/irLPOiiOOOCIGDhwY\n",
              "J598cqxYsWKXxy5cuDD69OkTvXv3jnHjxkVdXV2T9hVclqgTTjghu/fee7Msy7J58+ZlQ4cO/cQx\n",
              "b731VnbooYdm69evzxoaGrIzzjgju+OOO/a4r6VpyloXLVqUrVy5MsuyLNu+fXt23HHH5b7mb3/7\n",
              "W1ZVVbWPpv3fNGWtv//977OBAwfu8utL7bz+p379+mXz58/Psqz1nNdnn302q62tzbp37579+c9/\n",
              "3uUxpXKtNmWtpXKtNmWtpXKtNmWt/6k1XqtZ9q+/k48++mjW0NCQZVmWzZw5Mxs1atQnjtu8eXPW\n",
              "pUuXbPny5VmWZdkll1ySXXbZZXvcVwxJhtA777yTHXjggdlHH32UZVmWNTQ0ZIccckhWU1PT6Lhb\n",
              "brklmzJlSu7zRx99NDvuuOP2uK8laepa/9Mll1ySXXvttVmWtZ6LsKlr3d3/XEv5vL700kvZwQcf\n",
              "nH344YdZlrWe8/qx3f0QKYVr9d/tzQ/M1nit/rt8Q6iUz2trv1b/3SuvvJJ17979E9sfeOCB7NRT\n",
              "T819vnTp0qxr16573FcMST41VltbG4ceemiUl//rPWfLysrisMMOizVr1jQ6bs2aNdG9e/fc5z16\n",
              "9Mgds7t9LUlT1/rv3n777Zg/f36MGTMmt23r1q0xbNiwGDx4cFx//fWxc+fOos++t/ZmrStXrozB\n",
              "gwfHsGHDYtasWbntpXxe77777jj//POjXbt2uW2t4bw2RSlcq/lordfq3mjt12o+Sulavf3222Ps\n",
              "2LGf2L6r87d+/fqor6/f7b5i8O7zNFJXVxdnnHFGXH755TF06NCIiDj00ENj3bp10aVLl9iwYUOM\n",
              "Hz8+fvSjH8Xll1/ezNPmZ/DgwbF27dqoqqqKtWvXxujRo6Nz585x7rnnNvdoRbN169b41a9+FS+9\n",
              "9FJuW6md19S4VktTKV2r06dPjxUrVsRTTz3V3KPsVpJ3hD73uc81qsssy2LNmjVx2GGHNTrusMMO\n",
              "i9WrV+c+X7VqVe6Y3e1rSZq61oiIzZs3R3V1dYwdOzamTZuW215RURFdunSJiIhOnTrFhRdeGM8/\n",
              "//y+WcBeaOpaKysro6qqKiIiunXrFhMnTsytpxTPa0TEvHnzol+/ftG3b9/cttZyXpuiFK7VvdHa\n",
              "r9WmKoVrdW+VyrV66623xkMPPRSPP/547Lfffp/Yv6vz9/Fd7t3tK4YkQ6hLly4xePDgmDt3bkRE\n",
              "PPjgg9GtW7fo1atXo+POPvvseOSRR+Ltt9+OLMvizjvvjAkTJuxxX0vS1LVu2bIlqquro7q6Oq6+\n",
              "+upG+959993cb2Ps2LEjHnrooTj66KP3zQL2QlPXun79+txv2WzevDkWLlyYW0+pndeP3X333TF5\n",
              "8uRG21rLeW2KUrhWm6oUrtWmKoVrdW+VwrV62223xf333x9PPPFEdOzYcZfHVFdXx6JFi+KNN96I\n",
              "iIhZs2blzt/u9hVF0V591MK98cYb2THHHJP17t07GzJkSPaXv/wly7Ismzx5crZgwYLccT/96U+z\n",
              "nj17Zj179swuvPDC3IvX9rSvJWnKWm+44YasvLw8GzhwYO7jhhtuyLIsyx588MGsX79+2YABA7K+\n",
              "fftml156afbBBx8023p2pylrnTlzZta3b9/ceq699trcbzhkWWmd14+PO+CAA7K6urpGX99azuvF\n",
              "F1+cde3aNWvbtm3WpUuX7PDDD8+yrDSv1aastVSu1aastVSu1ab+HW7t12qWZVltbW0WEVnPnj1z\n",
              "fz+HDx+eZVmWXXPNNdlPfvKT3LELFizIjjzyyOzwww/Pxo4dm23cuLFJ+wrNe40BAMlK8qkxAIAI\n",
              "IQQAJEwIAQDJEkIAQLKEEACQLCEEACRLCAEAyRJCAECyhBAAkCwhBAAkSwgBAMn6/3O10UMplGzH\n",
              "AAAAAElFTkSuQmCC\n",
              "\">\n",
              "      </div>\n",
              "      <script type=\"text/javascript\">\n",
              "        (() => {\n",
              "          const chartElement = document.getElementById(\"chart-c9ea1bed-9b07-4644-9fbd-5421fd4f5cd0\");\n",
              "          async function getCodeForChartHandler(event) {\n",
              "            const chartCodeResponse =  await google.colab.kernel.invokeFunction(\n",
              "                'getCodeForChart', [\"chart-c9ea1bed-9b07-4644-9fbd-5421fd4f5cd0\"], {});\n",
              "            const responseJson = chartCodeResponse.data['application/json'];\n",
              "            await google.colab.notebook.addCell(responseJson.code, 'code');\n",
              "          }\n",
              "          chartElement.onclick = getCodeForChartHandler;\n",
              "        })();\n",
              "      </script>\n",
              "      <style>\n",
              "        .colab-quickchart-chart-with-code  {\n",
              "            display: block;\n",
              "            float: left;\n",
              "            border: 1px solid transparent;\n",
              "        }\n",
              "\n",
              "        .colab-quickchart-chart-with-code:hover {\n",
              "            cursor: pointer;\n",
              "            border: 1px solid #aaa;\n",
              "        }\n",
              "      </style>"
            ]
          },
          "metadata": {}
        },
        {
          "output_type": "display_data",
          "data": {
            "text/plain": [
              "<google.colab._quickchart_helpers.SectionTitle at 0x7e15687d9bd0>"
            ],
            "text/html": [
              "<h4 class=\"colab-quickchart-section-title\">2-d categorical distributions</h4>\n",
              "<style>\n",
              "  .colab-quickchart-section-title {\n",
              "      clear: both;\n",
              "  }\n",
              "</style>"
            ]
          },
          "metadata": {}
        },
        {
          "output_type": "display_data",
          "data": {
            "text/plain": [
              "from matplotlib import pyplot as plt\n",
              "import seaborn as sns\n",
              "import pandas as pd\n",
              "plt.subplots(figsize=(8, 8))\n",
              "df_2dhist = pd.DataFrame({\n",
              "    x_label: grp['last_name'].value_counts()\n",
              "    for x_label, grp in df.groupby('First_name')\n",
              "})\n",
              "sns.heatmap(df_2dhist, cmap='viridis')\n",
              "plt.xlabel('First_name')\n",
              "_ = plt.ylabel('last_name')"
            ],
            "text/html": [
              "      <div class=\"colab-quickchart-chart-with-code\" id=\"chart-e14e52b7-af9b-4e05-b0dd-0dd41b9089f1\">\n",
              "        <img style=\"width: 180px;\" src=\"data:image/png;base64,iVBORw0KGgoAAAANSUhEUgAAAosAAAKgCAYAAADzgTfiAAAAOXRFWHRTb2Z0d2FyZQBNYXRwbG90\n",
              "bGliIHZlcnNpb24zLjcuMSwgaHR0cHM6Ly9tYXRwbG90bGliLm9yZy/bCgiHAAAACXBIWXMAAA9h\n",
              "AAAPYQGoP6dpAAA7pElEQVR4nO3df3QU9b3/8dckkQWVjaJQoCFJkxBSCOYHghUUKGIJVCIXUKLi\n",
              "MfLDUKpgcxEbUX75I/bWUqleC3xJxaqlIqDNwfa2V+uPcGkVCEEOFUmAkKD8rDEBNEs2O98/vO69\n",
              "e+NAssywYXg+euYcdmZ2Pp/dk+55+/rM5zOGaZqmAAAAgG8QFekOAAAAoP2iWAQAAIAlikUAAABY\n",
              "olgEAACAJYpFAAAAWKJYBAAAgCWKRQAAAFiiWAQAAIAlikUAAABYolgEAACIoFmzZikxMVGGYaii\n",
              "ouIbz6murtbw4cMVGxurzMzMFsdLSkrUu3dvJScna/r06WpqamrVsdagWAQAAIigiRMnauPGjUpI\n",
              "SLA8x+v16rHHHtPvfve7Fsf27dunRx55RGVlZaqqqtLhw4e1YsWKMx5rLYpFAACACBo6dKji4uJO\n",
              "e06XLl103XXX6ZJLLmlxbO3atcrNzVX37t1lGIZmzJih1atXn/FYa8W06WwAAACckc/nk8/nC9nn\n",
              "8Xjk8Xhsb6umpiYklUxMTFRNTc0Zj7XWeVMsJi1dEukuACH2zi6MdBeAFvitRHsTyd/KwKHUiLVd\n",
              "vOx2LVq0KGTfggULtHDhwsh06CycN8UiAADA+aKoqEiFhaGFshOpoiTFx8drz549wdfV1dWKj48/\n",
              "47HW4p5FAADgSoEI/s/j8cjr9YZsThWLEyZMUGlpqQ4dOiTTNLVs2TLl5eWd8VhrUSwCAABEUEFB\n",
              "geLi4nTgwAGNGjVKKSkpkqRp06aptLRUkvTFF18oLi5Ot9xyi/7xj38oLi5ORUVFkqSkpCQtWrRI\n",
              "Q4YMUUpKirp27aqCgoIzHmstwzRN08bP6xjuw0F7wz2LaI/4rUR7E8nfSv+hlIi1HdO9KmJt2417\n",
              "FgEAgCs1m4GIte2mAothaAAAAFhyU+ELAAAQFNB5caddu0eyCAAAAEsUiwAAALDEMDQAAHClgCI3\n",
              "wcVNSBYBAABgiWQRAAC4UvP5sZR0u0eyCAAAAEskiwAAwJVYOsceJIsAAACwRLEIAAAASwxDAwAA\n",
              "V2pmGNoWJIsAAACwRLIIAABciQku9iBZBAAAgCWKRQAAAFhiGBoAALgST3CxB8kiAAAALJEsAgAA\n",
              "VwpEugMuQbIIAAAASySLAADAlViU2x4kiwAAALBEsQgAAABLDEMDAABXamYU2hYkiwAAALBEsggA\n",
              "AFyJpXPsQbIIAAAASxSLAAAAsMQwNAAAcKVmGZHugiuQLAIAAMASySIAAHClAEvn2IJkEQAAAJZI\n",
              "FgEAgCtxz6I9SBYBAABgiWIRAAAAlhiGBgAArsQwtD1IFgEAAGCJZBEAALhSwCRZtAPJIgAAACxR\n",
              "LAIAAMASw9AAAMCVmOBiD5JFAAAAWCJZBAAArtRMJmYLvkUAAABYolgEAACAJYahAQCAK7HOoj1I\n",
              "FgEAAGCJZBEAALgSS+fYg2QRAAAAlkgWAQCAKzWbZGJ24FsEAACAJYpFAAAAWGIYGgAAuFKATMwW\n",
              "fIsAAACwRLIIAABciaVz7EGyCAAAAEsUiwAAALDEMDQAAHAl1lm0B98iAAAALJEsAgAAVwowwcUW\n",
              "JIsAAACwRLIIAABcqZlMzBZ8iwAAALBEsQgAAABLDEMDAABXYukce/AtAgAAwBLJIgAAcKUAmZgt\n",
              "+BYBAAAiaNasWUpMTJRhGKqoqLA8r6SkRL1791ZycrKmT5+upqYmSdLzzz+vzMzM4HbllVdq/Pjx\n",
              "kqTq6mpFR0eHHN+zZ0+b+kexCAAAEEETJ07Uxo0blZCQYHnOvn379Mgjj6isrExVVVU6fPiwVqxY\n",
              "IUm6++67VVFREdy6d++uO+64I/jezp07hxxPTk5uU/8oFgEAgCs1m0bEtrYYOnSo4uLiTnvO2rVr\n",
              "lZubq+7du8swDM2YMUOrV69ucd7777+vI0eOKDc3t019OB3uWQQAALCZz+eTz+cL2efxeOTxeMK6\n",
              "Xk1NTUjymJiYqJqamhbnlZSU6M4779RFF10U3Hfy5EkNHDhQzc3NGjdunObNm6fo6OhWt02yCAAA\n",
              "XKlZURHbiouLFRsbG7IVFxc7+nlPnjyp3//+95o6dWpwX48ePfTJJ59o8+bNevPNN1VWVqZf/OIX\n",
              "bbouxSIAAIDNioqKVF9fH7IVFRWFfb34+Hjt378/+Lq6ulrx8fEh57z66qvq16+f+vbtG9zn8XjU\n",
              "rVs3SVKXLl00ZcoUlZWVtaltikUAAOBKATMqYpvH45HX6w3Zwh2ClqQJEyaotLRUhw4dkmmaWrZs\n",
              "mfLy8kLOKSkpCUkVJenIkSPBWdM+n0/r169XVlZWm9qmWAQAAIiggoICxcXF6cCBAxo1apRSUlIk\n",
              "SdOmTVNpaakkKSkpSYsWLdKQIUOUkpKirl27qqCgIHiNjz/+WBUVFZo0aVLItTdu3KisrCxlZGQo\n",
              "Oztb3bt317x589rUP8M0TfMsP+M5kbR0SaS7AITYO7sw0l0AWuC3Eu1NJH8rX6kaGLG2J6Vsjljb\n",
              "dmM2NAAAcKVmBlBtwbcIAAAASySLAADAldq6ODa+GckiAAAALFEsAgAAwBLD0AAAwJUCZGK24FsE\n",
              "AACAJZJFAADgSs0mmZgd+BYBAABgiWQRAAC4UkAsnWMHkkUAAABYolgEAACAJYahAQCAKzHBxR58\n",
              "iwAAALBEsggAAFypmUzMFnyLAAAAsESxCAAAAEsMQwMAAFcKmKyzaAeSRQAAAFgiWQQAAK7EBBd7\n",
              "8C0CAADAEskiAABwpQCLctuCbxEAAACWKBYBAABgiWFoAADgSs1i6Rw7kCwCAADAEskiAABwJSa4\n",
              "2INvEQAAAJYoFgEAAGCJYWgAAOBKTHCxB8kiAAAALJEsAgAAV2KCiz34FgEAAGCJZBEAALhSM8mi\n",
              "LfgWAQAAYIliEQAAAJYYhgYAAK4UYOkcW5AsAgAAwBLJIgAAcCUmuNiDbxEAAACWKBYBAABgiWFo\n",
              "AADgSgGTCS52IFkEAACAJZJFAADgSs1kYrbgWwQAAIAlikUAAABYYhgaAAC4EhNc7EGyCAAAAEsk\n",
              "iwAAwJUCZGK24FsEAACAJZJFAADgSs3cs2gLkkUAAABYolgEAACAJUeHoU3T1KFDh9SjRw8nmwEA\n",
              "AGiBpXPs4XiyeOONNzrdBAAAABziaLJoGIbi4uJ07NgxXXnllU42BQAAECJgcredHRyfDX3ppZcq\n",
              "MzNTY8aM0aWXXhrcv2TJEqebBgAAwFlyvFjs37+/+vfv73QzAAAAcIDjxeKCBQucbgIAAKCFZjHB\n",
              "xQ6OD+YfP35cP/7xj5WamqrU1FTdd999On78uNPNAgAAwAaOF4szZ86U3+/XmjVr9Oqrr6q5uVkz\n",
              "Z850ulkAAHCBC5hGxDY3cXwY+sMPP9T27duDr5977jllZGQ43SwAAABs4Hix2NzcrOPHj6tz586S\n",
              "pBMnTqi5udnpZgEAwAWOpXPs4XixeNddd+l73/ueJk2aJElas2aN7r77bqebBQAAgA0cLxYfeOAB\n",
              "paen66233pIkPfXUU8rJyXG6WQAAANjA8WJRkkaPHq3Ro0efi6YAAAAkSQGWzrGF48VidXW1fvaz\n",
              "n2nPnj3y+/3B/X/961+dbhoAAABnyfFi8dZbb9UNN9yge++9V9HR0U43BwAAIElqdtkSNpHi+DSh\n",
              "xsZGFRcXKzc3Vz/84Q+DGwAAAKRZs2YpMTFRhmGooqLC8rySkhL17t1bycnJmj59upqamiRJ77zz\n",
              "jjp16qTMzMzg9uWXX57xfa3leLGYnp6umpoap5sBAAA4L02cOFEbN25UQkKC5Tn79u3TI488orKy\n",
              "MlVVVenw4cNasWJF8HifPn1UUVER3Dp16tSq97WG48Xi0aNHlZGRoTFjxmj8+PHBDQAAwEkBMypi\n",
              "W1sMHTpUcXFxpz1n7dq1ys3NVffu3WUYhmbMmKHVq1ef8drhvu9/c/yexcmTJ2vy5Mlteo/P55PP\n",
              "5wvZZ/r9MmLOyeRtAACAs/JNtYzH45HH4wnrejU1NSHJY2JiYsjI7Z49e5Sdna3o6GjdfffdwUcr\n",
              "n+l9rXFOFuVuq+LiYi1atChk32WjfqDLR4+yq1sAAMDlIvmM5m+qZRYsWKCFCxfa3lZ2drYOHDig\n",
              "2NhYHThwQGPGjNGVV16pW2+91ZbrO14sfv7551q+fHmLpXN+85vfWL6nqKhIhYWFIfsy/t8yx/oI\n",
              "AABgp2+qZcJNFSUpPj5ee/bsCb6urq5WfHy8JMnr9Qb3x8XF6bbbblNZWZluvfXW076vtRwvFidO\n",
              "nKiuXbvq2muvbfXSOd8U0zIEDQAA2iKSi3KfzZDzN5kwYYKuu+46LVy4UN/61re0bNky5eXlSZIO\n",
              "Hjyob33rW4qKitLx48e1YcMGTZ069Yzvay3HK7CDBw/qzTffdLoZAACA81JBQYHeeOMNHTp0SKNG\n",
              "jVLnzp1VVVWladOmKTc3V7m5uUpKStKiRYs0ZMgQSdLw4cNVUFAgSVq3bp1+/etfKyYmRn6/X7fc\n",
              "covuvvtuSTrt+1rLME3TtPHztpCbm6vf/va3uuyyy87qOklLl9jTIcAme2cXnvkk4BzjtxLtTSR/\n",
              "K+94f3rE2n75mv8Xsbbt5niyePHFFys7O1s5OTnq2LFjcP+SJfygAQAA50RygoubOF4sfve739V3\n",
              "v/tdp5sBAACAAxwvFhcsWOB0EwAAAC20dXFsfDPHv8Xjx4/rxz/+sVJTU5Wamqr77rtPx48fd7pZ\n",
              "AAAA2MDxYnHmzJny+/1as2aNXn31VTU3NwdXFQcAAED75vgw9Icffqjt27cHXz/33HPKyMhwulkA\n",
              "AHCBY4KLPRxPFpubm0OGnY8fP67m5manmwUAAIANzsmzob/3ve9p0qRJkqQ1a9YEF4oEAABwSiSf\n",
              "4OImjhWLDQ0N+uyzz/TAAw8oPT1db731lqSv7mGcPHmyU80CAADARo4NQ8+dO1dbt26VJI0ePVpP\n",
              "PfWUnnrqKXXv3l0PPvigU80CAABI+uqexUhtbuJYsfjBBx9owoQJLfaPHz9e7733nlPNAgAAwEaO\n",
              "FYt+v9+60SgWyQQAADgfOHbPYlNTkxoaGuT1ekP219fXq6mpyalmAQAAJLF0jl0ci/jy8vJ05513\n",
              "qq6uLrivrq5Od999t/Ly8pxqFgAAADZyrFh8+OGHddlll6lXr17KyspSVlaWevXqpc6dO+uRRx5x\n",
              "qlkAAABJTHCxi2PD0NHR0XrhhRc0f/58lZeXS5Kys7OVnJzsVJMAAACwmeOLcicnJ1MgAgAAnKcc\n",
              "LxYBAAAiwW3DwZHCGjYAAACwRLIIAABciWdD24NkEQAAAJZIFgEAgCtxz6I9SBYBAABgiWIRAAAA\n",
              "lhiGBgAArsQwtD1IFgEAAGCJZBEAALgSyaI9SBYBAABgiWIRAAAAlhiGBgAArsQwtD1IFgEAAGCJ\n",
              "ZBEAALiSSbJoC5JFAAAAWCJZBAAArhQQyaIdSBYBAABgiWIRAAAAlhiGBgAArsTSOfYgWQQAAIAl\n",
              "kkUAAOBKLJ1jD5JFAAAAWKJYBAAAgCWGoQEAgCsxwcUeJIsAAACwRLIIAABciQku9iBZBAAAgCWK\n",
              "RQAAAFhiGBoAALgSE1zsQbIIAAAASySLAADAlUwz0j1wB5JFAAAAWCJZBAAArhQQ9yzagWQRAAAA\n",
              "ligWAQAAYIlhaAAA4Eo8wcUeJIsAAACwRLIIAABciUW57UGyCAAAAEsUiwAAALDEMDQAAHAlnuBi\n",
              "D5JFAAAAWCJZBAAArsTSOfYgWQQAAIAlkkUAAOBKJIv2IFkEAACAJYpFAAAAWGIYGgAAuBJPcLEH\n",
              "ySIAAAAskSwCAABXYlFue5AsAgAARNCsWbOUmJgowzBUUVFheV5JSYl69+6t5ORkTZ8+XU1NTZKk\n",
              "v/71rxo0aJD69u2rfv36ae7cuQoEApKk6upqRUdHKzMzM7jt2bOnTf2jWAQAAIigiRMnauPGjUpI\n",
              "SLA8Z9++fXrkkUdUVlamqqoqHT58WCtWrJAkXX755fr973+vf/zjH9q6das2bdqk3/72t8H3du7c\n",
              "WRUVFcEtOTm5Tf2jWAQAAK5kmkbEtrYYOnSo4uLiTnvO2rVrlZubq+7du8swDM2YMUOrV6+WJGVl\n",
              "ZSkpKUmS1LFjR2VmZqq6ujqs7+ybcM8iAACAzXw+n3w+X8g+j8cjj8cT1vVqampCksfExETV1NS0\n",
              "OO/QoUNau3atNmzYENx38uRJDRw4UM3NzRo3bpzmzZun6OjoVrdNsggAAFwpkslicXGxYmNjQ7bi\n",
              "4mJHP29DQ4PGjh2ruXPn6uqrr5Yk9ejRQ5988ok2b96sN998U2VlZfrFL37RputSLAIAANisqKhI\n",
              "9fX1IVtRUVHY14uPj9f+/fuDr6urqxUfHx98ffz4ceXk5Ojmm29WYWFhcL/H41G3bt0kSV26dNGU\n",
              "KVNUVlbWprYpFgEAgCuZEdw8Ho+8Xm/IFu4QtCRNmDBBpaWlOnTokEzT1LJly5SXlydJOnHihHJy\n",
              "cpSTk6OHH3445H1HjhwJzpr2+Xxav369srKy2tQ2xSIAAEAEFRQUKC4uTgcOHNCoUaOUkpIiSZo2\n",
              "bZpKS0slSUlJSVq0aJGGDBmilJQUde3aVQUFBZKkpUuX6oMPPtD69euDy+M8/vjjkqSNGzcqKytL\n",
              "GRkZys7OVvfu3TVv3rw29c8wzfNjycqkpUsi3QUgxN7ZhWc+CTjH+K1EexPJ38o+6xdHrO2Px8+P\n",
              "WNt2YzY0AABwpbYuYYNvxjA0AAAALJEsAgAAdzovbrRr/0gWAQAAYIliEQAAAJYYhgYAAK7EBBd7\n",
              "kCwCAADAEskiAABwpfNjJen2j2QRAAAAlkgWAQCAK3HPoj1IFgEAAGCJYhEAAACWGIYGAADuxDC0\n",
              "LUgWAQAAYIlkEQAAuBJL59iDZBEAAACWKBYBAABgiWFoAADgTgxD24JkEQAAAJZIFgEAgCvxBBd7\n",
              "kCwCAADAEskiAABwJ+5ZtAXJIgAAACxRLAIAAMASw9AAAMCVmOBiD5JFAAAAWCJZBAAA7sQEF1uQ\n",
              "LAIAAMASxSIAAAAsMQwNAABcigkudiBZBAAAgCWSRQAA4E5McLEFySIAAAAskSwCAAB3Ilm0Bcki\n",
              "AAAALFEsAgAAwBLD0AAAwJ14NrQtSBYBAABgiWQRAAC4kskEF1uQLAIAAMASxSIAAAAsMQwNAADc\n",
              "iWFoW5AsAgAAwBLJIgAAcCeWzrEFySIAAAAsUSwCAADAUljFYm1trW666SZlZmZKkioqKvTLX/7S\n",
              "zn4BAACcFcOM3OYmYRWLBQUFysvLk/nfq12mp6frN7/5ja0dAwAAQOSFVSweOXJEkydPVlTUV2+P\n",
              "iYlRTAxzZQAAQDtiRnBzkbCKxZiYmGCqKEl1dXUhrwEAAOAOYRWLt9xyiwoKCtTQ0KCVK1fqxhtv\n",
              "1LRp0+zuGwAAQPhMI3Kbi4Q1dvyv//qvWr16terr6/WXv/xFhYWFuv322+3uGwAAACIs7BsNb7vt\n",
              "Nt1222129gUAAADtTFjF4sGDB/X000+rsrJSfr8/uL+0tNS2jgEAAJwVplPYIqxicfz48RowYIDG\n",
              "jRun6Ohou/sEAACAdiKsYvHkyZN69tln7e4LAACAfUgWbRHWbOgBAwaosrLS7r4AAACgnQkrWSws\n",
              "LNTgwYPVu3dvdezYMbj/r3/9q20dAwAAQOSFVSxOnjxZP/rRj3T11VdzzyIAAGifGIa2RdhL5yxe\n",
              "vNjOfgAAAKAdCuuexSFDhqiiosLmrgAAANiIJ7jYIqxksaysTCtXrlRKSkrIPYvl5eW2dQwAAACR\n",
              "F1axyLI5AACgvTO4Z9EWYRWLw4YNs7sfAAAAaIfCKha//PJLPfPMM6qoqFBjY2Nw//r1623rGAAA\n",
              "ACIvrAku06dPV3V1tTZt2qTvf//72r9/vxISEuzuGwAAQPjMCG4uElaxuH37dj333HPyer267777\n",
              "9M4772jr1q129w0AAAARFlax2KlTJ0lSTEyMTp48qc6dO+vo0aO2dgwAAACRF1ax2KVLF9XV1WnM\n",
              "mDEaNWqUxo0bp7i4OLv7BgAA4HqzZs1SYmKiDMM47TrWJSUl6t27t5KTkzV9+nQ1NTWd9bHWCKtY\n",
              "fOONN3T55Zfr0Ucf1YwZMzRy5EitW7cunEsBAABc0CZOnKiNGzeedv7Hvn379Mgjj6isrExVVVU6\n",
              "fPiwVqxYcVbHWiusYvHr50EbhqHJkyfr3nvvldfrDedSAAAAjjDMyG1tMXTo0DOO0K5du1a5ubnq\n",
              "3r27DMPQjBkztHr16rM61lphLZ1TXl6uhx56SHv37pXf7w/u37t3bziXAwAAcBWfzyefzxeyz+Px\n",
              "yOPxhHW9mpqakOQxMTFRNTU1Z3WstcIqFu+66y7de++9uvbaa4Mpo9P2zi48J+0ArZW0dEmkuwC0\n",
              "wG8l8L9E8BnNxcXFWrRoUci+BQsWaOHChZHp0FkIq1iMjo5WQUGB3X0BAABwhaKiIhUWhv7HW7ip\n",
              "oiTFx8drz549wdfV1dWKj48/q2OtFdY9i0OGDNGWLVvCeSsAAMC5EcFFuT0ej7xeb8h2NsXihAkT\n",
              "VFpaqkOHDsk0TS1btkx5eXlnday1wioW33vvPQ0ePFh9+/ZVdnZ2cAMAAEDbFBQUKC4uTgcOHNCo\n",
              "UaOUkpIiSZo2bZpKS0slSUlJSVq0aJGGDBmilJQUde3aNTjKG+6x1jJM02zzQ2nefffdb9w/bNiw\n",
              "tl4KOG9xzyLaI+5ZBP5H0tOR+53ee797/r8Y1j2LZyoK77zzTr344othdQgAAMAWLntGc6SENQx9\n",
              "Jjt37nTisgAAADjHwkoWAQAA2ru2Lo6Nb+ZIsggAAAB3oFgEAACAJUeGoc/VU10AAAAsMQxti7CS\n",
              "xXHjxp123+bNm8PtDwAAANqRsJLFb3oA9d69e8+6MwAAALYhWbRFm4rF5cuXa9myZdq9e3fIE1vq\n",
              "6+vVr18/2zsHAACAyGpTsZiTk6M+ffroRz/6kX75y18G93u9Xl111VW2dw4AACBcLJ1jjzYViwkJ\n",
              "CUpISNBHH30U3FdfX6/a2lomtQAAALhQWBNccnJy9Pnnn+vEiRPKyMjQTTfdpPnz59vdNwAAAERY\n",
              "WMXi4cOHddlll+mPf/yjbr75ZlVWVuq1116zu28AAADhM43IbS4SVrHY1NQkSXrvvfd044036qKL\n",
              "LlJMDE8OBAAAcJuwisX09HSNHj1aGzZs0IgRI/TFF1/Y3S8AAICzY0Zwc5Gw4sBVq1bpP/7jP5SR\n",
              "kaGLL75Yn3zyiYqLi+3uGwAAACIsrGKxY8eOIU9s+fa3v61vf/vbdvUJAAAA7URYw9CVlZUaPXq0\n",
              "evbsqS5dugQ3AACA9sIwI7e5SVjF4vTp05Wfn6/LL79c7777riZOnKg5c+bY3TcAAABEWFjFYkND\n",
              "gyZNmqSoqCj1799fy5cv1+uvv25z1wAAAM4CE1xsEVaxeNFFF0mSOnfurOrqavl8Ph07dszWjgEA\n",
              "ACDywprgMnToUP3zn//UvffeqwEDBqhDhw7Ky8uzu28AAABhc9u9g5ESVrH485//XJJ0++236/rr\n",
              "r1d9fb3S09Nt7RgAAAAir03FYkNDQ4t9sbGxio2NVUNDg7xer20dAwAAQOS1qVi87LLLZBiGTPN/\n",
              "ct2vXxuGoebmZts7CAAAEBaGoW3RpmIxEAg41Q8AAAC0Q2HdswgAANDukSzaIqylcwAAAHBhoFgE\n",
              "AACAJYahAQCAK7HOoj1IFgEAAGCJYhEAAACWKBYBAABgiXsWAQCAO3HPoi1IFgEAAGCJYhEAAACW\n",
              "GIYGAACuxNI59iBZBAAAgCWSRQAA4E4ki7YgWQQAAIAlikUAAABYYhgaAAC4E8PQtiBZBAAAgCWS\n",
              "RQAA4EosnWMPkkUAAABYolgEAACAJYahAQCAOzEMbQuSRQAAAFgiWQQAAK7EBBd7kCwCAADAEski\n",
              "AABwJ5JFW5AsAgAAwBLFIgAAACwxDA0AANyJYWhbkCwCAADAEskiAABwJZbOsQfJIgAAACxRLAIA\n",
              "AMASw9AAAMCdGIa2BckiAAAALJEsAgAAdyJZtAXJIgAAACyRLAIAAFdi6Rx7kCwCAADAEsUiAAAA\n",
              "LDEMDQAA3IlhaFuQLAIAAMASySIAAHAlJrjYg2QRAAAggiorKzV48GClpqZq4MCB2rlzZ4tzAoGA\n",
              "5syZo/T0dKWlpWnq1Kk6deqUJOnPf/6zMjMzg1vPnj2VnZ0dfK9hGOrfv3/weFlZWZv6R7EIAAAQ\n",
              "QQUFBbrnnnu0e/duPfjgg8rPz29xTklJicrLy1VeXq6PPvpIUVFRWrp0qSRp1KhRqqioCG7Z2dm6\n",
              "4447Qt5fVlYWPH799de3qX8UiwAAwJ3MCG6tdOTIEW3ZskWTJ0+WJE2YMEG1tbWqqqoKOW/79u0a\n",
              "OXKkOnToIMMwNHr0aL344ostrvfpp5/qrbfe0p133tn6TpwBxSIAAIDNfD6fGhoaQjafz9fivNra\n",
              "WvXo0UMxMV9NIzEMQ/Hx8aqpqQk5b8CAASotLVVDQ4Oampq0Zs0aVVdXt7jeqlWrNGbMGHXr1i1k\n",
              "/w033KCMjAwVFhbq5MmTbfosFIsAAMCdIpgsFhcXKzY2NmQrLi4O+6Pk5+crJydHw4YN07Bhw5Sa\n",
              "mhosMIMf1zT1m9/8RlOnTg3Zv3//fm3dulWbNm3S0aNH9cADD7SpbYpFAAAAmxUVFam+vj5kKyoq\n",
              "anFer169dPDgQfn9fklfFXw1NTWKj48POc8wDC1cuFDbtm3Tpk2b1LdvX/Xr1y/knHfffVeNjY0a\n",
              "NWpUyP6vr3XJJZdo5syZTHABAACQJCOCm8fjkdfrDdk8Hk+LPnbr1k3Z2dl66aWXJEnr1q1TXFyc\n",
              "UlJSQs5rbGxUXV2dJOnYsWN68sknNXfu3JBzSkpKlJ+fr+jo6OC+uro6ffHFF5K+mlH9yiuvKCsr\n",
              "q03fI+ssAgAARNDy5cuVn5+vJ554Ql6vV88//7wkadq0acrNzVVubq7q6+s1fPhwRUVFKRAIaPbs\n",
              "2Ro7dmzwGvX19Vq/fr127NgRcu1du3apoKBAhmHI7/crOzs7OIu6tQzTNFmyEghD0tIlke4C0MLe\n",
              "2YWR7gLQblxV+MuItf3hkp9ErG27kSwCAAB3Ig6zBfcsAgAAwBLJIgAAcCWeDW0PkkUAAABYolgE\n",
              "AACAJYahAQCAOzEMbQuSRQAAAFgiWQQAAO5EsmgLkkUAAABYIlkEAACuxNI59iBZBAAAgCWKRQAA\n",
              "AFhiGBoAALgTw9C2IFkEAACAJZJFAADgSkxwsQfJIgAAACxRLAIAAMASw9AAAMCdGIa2BckiAAAA\n",
              "LJEsAgAAV2KCiz1IFgEAAGCJZBEAALgTyaItSBYBAABgiWIRAAAAlhiGBgAA7sQwtC1IFgEAAGCJ\n",
              "ZBEAALgSS+fYg2QRAAAAligWAQAAYIlhaAAA4E4MQ9uCZBEAAACWSBYBAIArGSbRoh1IFgEAAGCJ\n",
              "ZBEAALgTwaItSBYBAABgiWIRAAAAlhiGBgAArsQTXOxBsggAAABLJIsAAMCdSBZtQbIIAAAASxSL\n",
              "AAAAsMQwNAAAcCUmuNiDZBEAAACWSBYBAIA7kSzagmQRAAAAligWAQAAYIlhaAAA4EpMcLEHySIA\n",
              "AAAskSwCAAB3Ilm0BckiAAAALJEsAgAAV+KeRXuQLAIAAMASxSIAAAAsMQwNAADcyWQc2g4kiwAA\n",
              "ALBEsggAAFyJCS72IFkEAACAJYpFAAAAWDpnw9A+n08ej+dcNQcAAC50DEPbwvFk8cMPP1R6erqS\n",
              "k5MlSVu3btXcuXOdbhYAAAA2cLxYnDVrlpYtW6auXbtKkrKzs/XGG2843SwAALjAGYHIbW7ieLF4\n",
              "4sQJXXfddcHXhmGoQ4cOTjcLAAAAGzh+z2JMTIyamppkGIYkqba2VtHR0U43CwAALnTcs2gLx5PF\n",
              "e++9V+PGjdPRo0f18MMP6/rrr+eeRQAAgPOE48ni5MmTlZSUpD/84Q86deqUXnrppZBhaQAAALRf\n",
              "52TpnMGDB2vw4MGqr69XbW3tuWgSAABc4HiCiz0cH4bOycnR559/rhMnTigjI0M33XST5s+f73Sz\n",
              "AAAAsIHjxeLhw4d12WWX6Y9//KNuvvlmVVZW6rXXXnO6WQAAcKEzzchtLuJ4sdjU1CRJeu+993Tj\n",
              "jTfqoosuUkzMOXtwDAAAQLtWWVmpwYMHKzU1VQMHDtTOnTtbnBMIBDRnzhylp6crLS1NU6dO1alT\n",
              "pyRJ1dXVio6OVmZmZnDbs2dP8L0bNmxQWlqaevfurfHjx6uhoaFN/XO8WExPT9fo0aO1YcMGjRgx\n",
              "Ql988YXTTQIAAJw3CgoKdM8992j37t168MEHlZ+f3+KckpISlZeXq7y8XB999JGioqK0dOnS4PHO\n",
              "nTuroqIiuH395LwTJ05o6tSpev3111VZWamePXvq0UcfbVP/HC8WV61apYKCAr399tu6+OKLVVdX\n",
              "p+LiYqebBQAAFzjDjNzWWkeOHNGWLVs0efJkSdKECRNUW1urqqqqkPO2b9+ukSNHqkOHDjIMQ6NH\n",
              "j9aLL754xuv/6U9/UlZWltLS0iRJM2fO1OrVq1vfQZ2DYrFjx47q1auXNm7cKEm6+OKLlZGRcdr3\n",
              "+Hw+NTQ0hGw+n8/prgIAANiitbVMbW2tevToEbxFzzAMxcfHq6amJuS8AQMGqLS0VA0NDWpqatKa\n",
              "NWtUXV0dPH7y5EkNHDhQ2dnZWrx4sZqbmyVJNTU1SkhICJ6XmJiogwcPyu/3t/qzOF4sPvfcc5oy\n",
              "ZYoWLlwoSfrss890++23n/Y9xcXFio2NDdlIIwEAQJuYkdvsrmXy8/OVk5OjYcOGadiwYUpNTQ0W\n",
              "mD169NAnn3yizZs3680331RZWZl+8YtfhN3W/+V4sbhixQr9/e9/l9frlSQlJyfr6NGjp31PUVGR\n",
              "6uvrQ7aioiKnuwoAAGCL1tYyvXr1Ckn6TNNUTU2N4uPjQ84zDEMLFy7Utm3btGnTJvXt21f9+vWT\n",
              "JHk8HnXr1k2S1KVLF02ZMkVlZWWSpPj4eO3fvz94nerq6pAkszUcLxY9Ho86deoUsu9MHfR4PPJ6\n",
              "vSGbx+NxspsAAMBlInnPYmtrmW7duik7O1svvfSSJGndunWKi4tTSkpKyHmNjY2qq6uTJB07dkxP\n",
              "Pvlk8PHJR44cCa4+4/P5tH79emVlZUn6ar3r8vJy7dq1S9JXI755eXlt+h4dX8Oma9eu2r17twzD\n",
              "kPTVhJf/Wy0DAABcqJYvX678/Hw98cQT8nq9ev755yVJ06ZNU25urnJzc1VfX6/hw4crKipKgUBA\n",
              "s2fP1tixYyVJGzdu1Pz58xUdHS2/368RI0Zo3rx5kr6aJb1y5UqNGzdOfr9f6enpeuGFF9rUP8M0\n",
              "nV05sqqqSrfddpt27typK664Ql6vVxs2bNB3vvMdJ5sFHJe0dEmkuwC0sHd2YaS7ALQb1//LUxFr\n",
              "u+y1ORFr226OJ4spKSl6//339fHHH8s0TfXp00fR0dFONwsAAC50LnuSSqQ4fs+iJL322mt67bXX\n",
              "1LdvXx0+fFg7duw4F80CAADgLDleLM6fP18rV67UqlWrJH01m6egoMDpZgEAwAXufFiU+3zgeLH4\n",
              "hz/8QRs2bNAll1wi6au1gE6cOOF0swAAALCB48Vip06dWtyj6PCcGgAAANjE8QkuCQkJKisrk2EY\n",
              "OnXqlIqLi5WZmel0swAA4EJHNmULx4vFX/3qV7rrrru0Y8cOXXrppfr+97+vxx57zOlmAQAAYANH\n",
              "h6G3bNmijRs36uWXX1Z9fb3Ky8vVqVMnjRkzxslmAQAAmOBiE8eKxZ/97GcaOXKkfv7zn+vaa69V\n",
              "SUmJrrnmGqWkpKiystKpZgEAAGAjx4ahV61apX/84x/q2bOndu3apfT0dP35z3/WDTfc4FSTAAAA\n",
              "/yPgsogvQhxLFjt27KiePXtKktLS0pSamkqhCAAAcJ5xLFlsbGzUjh07gsvkmKYZ8vqqq65yqmkA\n",
              "AADYxLFi8csvv1Rubm7Ivq9fG4ahvXv3OtU0AAAAS+fYxLFisbq62qlLAwAA4BxxfJ1FAACASHDb\n",
              "EjaR4vjj/gAAAHD+olgEAACAJYahAQCAO5mMQ9uBZBEAAACWSBYBAIArMcHFHiSLAAAAsESyCAAA\n",
              "3Ilk0RYkiwAAALBEsQgAAABLDEMDAABXMlg6xxYkiwAAALBEsggAANwpEOkOuAPJIgAAACxRLAIA\n",
              "AMASw9AAAMCVmOBiD5JFAAAAWCJZBAAA7kSwaAuSRQAAAFgiWQQAAO7EPYu2IFkEAACAJYpFAAAA\n",
              "WGIYGgAAuJLBKLQtSBYBAABgiWQRAAC4ExNcbEGyCAAAAEsUiwAAALDEMDQAAHAlIxDpHrgDySIA\n",
              "AAAskSwCAAB3YoKLLUgWAQAAYIliEQAAAJYYhgYAAO7EKLQtSBYBAABgiWQRAAC4ksEEF1uQLAIA\n",
              "AMASySIAAHAnkkVbkCwCAADAEsUiAAAALDEMDQAA3IlnQ9uCZBEAAACWSBYBAIArsXSOPUgWAQAA\n",
              "YIliEQAAAJYYhgYAAO7EMLQtSBYBAABgiWQRAAC4E8miLUgWAQAAYIlkEQAAuBOLctuCZBEAAACW\n",
              "KBYBAABgiWFoAADgSjzBxR4kiwAAALBEsggAANyJZNEWJIsAAAARVFlZqcGDBys1NVUDBw7Uzp07\n",
              "W5wTCAQ0Z84cpaenKy0tTVOnTtWpU6ckSTt27NDQoUOVlpam9PR0TZkyRV9++WXwvYZhqH///srM\n",
              "zFRmZqbKysra1D+KRQAAgAgqKCjQPffco927d+vBBx9Ufn5+i3NKSkpUXl6u8vJyffTRR4qKitLS\n",
              "pUslSR07dtSzzz6rXbt2afv27Tp58qR+9rOfhby/rKxMFRUVqqio0PXXX9+m/lEsAgAAdzLNyG2t\n",
              "dOTIEW3ZskWTJ0+WJE2YMEG1tbWqqqoKOW/79u0aOXKkOnToIMMwNHr0aL344ouSpN69e+uqq66S\n",
              "JEVHR2vgwIGqrq625zsUxSIAAIDtfD6fGhoaQjafz9fivNraWvXo0UMxMV9NIzEMQ/Hx8aqpqQk5\n",
              "b8CAASotLVVDQ4Oampq0Zs2abywIT548qZUrV+rmm28O2X/DDTcoIyNDhYWFOnnyZJs+C8UiAABw\n",
              "pwgmi8XFxYqNjQ3ZiouLw/4o+fn5ysnJ0bBhwzRs2DClpqYGC8yvnTp1SpMmTdIPfvAD/cu//Etw\n",
              "//79+7V161Zt2rRJR48e1QMPPNCmtikWAQAAbFZUVKT6+vqQraioqMV5vXr10sGDB+X3+yVJpmmq\n",
              "pqZG8fHxIecZhqGFCxdq27Zt2rRpk/r27at+/foFjzc1NWnSpEnq0aNH8F7Gr319rUsuuUQzZ85k\n",
              "ggsAAICkr54NHaHN4/HI6/WGbB6Pp0UXu3XrpuzsbL300kuSpHXr1ikuLk4pKSkh5zU2Nqqurk6S\n",
              "dOzYMT355JOaO3euJMnv9ysvL09dunTRihUrZBhG8H11dXX64osvvvo6AgG98sorysrKatPXyDqL\n",
              "AAAAEbR8+XLl5+friSeekNfr1fPPPy9JmjZtmnJzc5Wbm6v6+noNHz5cUVFRCgQCmj17tsaOHStJ\n",
              "euWVV7R+/XpdddVVwUJwyJAh+vd//3ft2rVLBQUFMgxDfr9f2dnZLZLHMzFMkxUrgXAkLV0S6S4A\n",
              "LeydXRjpLgDtRk6/eRFr+z92Ph6xtu1GsggAAFyJZ0Pbg3sWAQAAYIlkEQAAuBPJoi1IFgEAAGCJ\n",
              "YhEAAACWGIYGAADuFGAY2g4kiwAAALBEsggAANyJCS62IFkEAACAJZJFAADgTiSLtiBZBAAAgCWK\n",
              "RQAAAFhiGBoAALgTw9C2IFkEAACAJZJFAADgTizKbQuSRQAAAFiiWAQAAIAlhqEBAIA7mYFI98AV\n",
              "SBYBAABgiWQRAAC4E0vn2IJkEQAAAJZIFgEAgDuxdI4tSBYBAABgiWIRAAAAlhiGBgAA7sQEF1uQ\n",
              "LAIAAMASySIAAHAnkkVbkCwCAADAEsUiAAAALDEMDQAA3IlhaFuQLAIAAMASySIAAHCnQCDSPXAF\n",
              "kkUAAABYIlkEAADuxD2LtiBZBAAAgCWKRQAAAFhiGBoAALgTw9C2IFkEAACAJZJFAADgTgGSRTuQ\n",
              "LAIAAMASxSIAAAAsMQwNAABcyTR5gosdSBYBAABgiWQRAAC4ExNcbEGyCAAAAEsUiwAAALDEMDQA\n",
              "AHAnnuBiC5JFAAAAWCJZBAAA7hRg6Rw7kCwCAADAEskiAABwJ+5ZtAXJIgAAACxRLAIAAMASw9AA\n",
              "AMCVTCa42IJkEQAAAJZIFgEAgDsxwcUWJIsAAACwRLEIAAAASwxDAwAAdwowDG0HkkUAAABYIlkE\n",
              "AADuZLJ0jh1IFgEAAGCJZBEAALiSyT2LtiBZBAAAgCWKRQAAAFhiGBoAALgTE1xsQbIIAAAASySL\n",
              "AADAlZjgYg+SRQAAgAiqrKzU4MGDlZqaqoEDB2rnzp0tzgkEApozZ47S09OVlpamqVOn6tSpU8Hj\n",
              "GzZsUFpamnr37q3x48eroaGhVcdag2IRAAAgggoKCnTPPfdo9+7devDBB5Wfn9/inJKSEpWXl6u8\n",
              "vFwfffSRoqKitHTpUknSiRMnNHXqVL3++uuqrKxUz5499eijj57xWGtRLAIAAHcyA5HbWunIkSPa\n",
              "smWLJk+eLEmaMGGCamtrVVVVFXLe9u3bNXLkSHXo0EGGYWj06NF68cUXJUl/+tOflJWVpbS0NEnS\n",
              "zJkztXr16jMeay2KRQAAAJv5fD41NDSEbD6fr8V5tbW16tGjh2JivppGYhiG4uPjVVNTE3LegAED\n",
              "VFpaqoaGBjU1NWnNmjWqrq6WJNXU1CghISF4bmJiog4ePCi/33/aY63FBJcLjM/nU3FxsYqKiuTx\n",
              "eCLdnfPa3tmFke6CK/A3ifaGv0n3+M/AqxFre+HChVq0aFHIvgULFmjhwoVhXS8/P1/79+/XsGHD\n",
              "1KlTJ40cOVJ/+ctfbOjpmZEsXmB8Pp8WLVr0jf91A0QCf5Nob/ibhB2KiopUX18fshUVFbU4r1ev\n",
              "XiFJn2maqqmpUXx8fMh5hmFo4cKF2rZtmzZt2qS+ffuqX79+kqT4+Hjt378/eG51dXUwrTzdsdai\n",
              "WAQAALCZx+OR1+sN2b4pqe7WrZuys7P10ksvSZLWrVunuLg4paSkhJzX2Niouro6SdKxY8f05JNP\n",
              "au7cuZKknJwclZeXa9euXZKk5557Tnl5eWc81loMQwMAAETQ8uXLlZ+fryeeeEJer1fPP/+8JGna\n",
              "tGnKzc1Vbm6u6uvrNXz4cEVFRSkQCGj27NkaO3asJKlz585auXKlxo0bJ7/fr/T0dL3wwgtnPNZa\n",
              "hmmarFh5AWloaFBsbKzq6+vl9Xoj3R2Av0m0O/xNAqEYhr7AeDweLViwgJu20W7wN4n2hr9JIBTJ\n",
              "IgAAACyRLAIAAMASxSIAAAAsUSwCAADAEsWiSyQmJqqiouK05xiGoc8///yc9AeQQv8uGxsbdfPN\n",
              "N+uWW27RqVOnzng+YIf169drwIAByszMVFpamkaMGKFAoPXP7T2ThQsX6v7777ftekB7xDqLABx3\n",
              "/Phx5ebmqnfv3lq2bJmiovjvVDjv4MGDuueee7R169bgs3HLy8tlGEarr+H3+9v0pAvAjfjFdpmq\n",
              "qiqNHDlSV111lTIzM/X666+HHH/uuec0aNAgfec73wku+il9lejMnz9f1157rb7zne/oscceO8c9\n",
              "h1v985//1IgRI3TNNdfoV7/6lXr27Kna2trg8YceekgPPvhgi/cdOnRIt956qwYNGqT+/fvr4Ycf\n",
              "PpfdhgscPnxY0dHR6tKlS3Bfdna2DMPQnDlzNHDgQGVmZmro0KH6+OOPg+cYhqEFCxZo4MCBKioq\n",
              "0o4dO3TdddcpOztbffv2bfH7ePDgQY0dO1Z9+/bViBEj9Nlnn52zzwicEyZcISEhwdy2bZs5aNAg\n",
              "c9myZaZpmubu3bvNLl26mNXV1aZpmqYk86mnnjJN0zQ/+ugj89JLLzWbmpqC77/vvvtM0zTNo0eP\n",
              "ml6v1zxw4EAEPgncJCEhwbziiivMn/70p8F9Dz30kFlUVGSapmk2Njaa3bt3D/6Nfv13bJqm+YMf\n",
              "/MB85513TNM0zaamJnPUqFHmmjVrzu0HwHmtubnZHD9+vHn55Zeb48aNM//t3/4t+Lt25MiR4Hmr\n",
              "V682R40aFXwtyVy0aFHwdUNDg9nY2Giapml+8cUXZmZmpvm3v/3NNE3TXLBggZmQkGAeO3bMNE3T\n",
              "nDRpkvnEE084/tmAc4ls3UWOHz+u8vJy/dd//ZckqXfv3rruuutUVlYWHIK54447JElpaWmKiYnR\n",
              "oUOHFBcXJ0m6/fbbJUlXXnmlkpKStG/fPn3729+OwCeBm/zwhz/U2rVrNXPmTPXq1UszZ87UoEGD\n",
              "tGDBAr366qsaNGhQ8O/zaydPntRbb72lw4cPB/edOHEiJP0BziQqKkrr1q3Trl279O677+pPf/qT\n",
              "Hn/8cW3ZskUffPCBnnnmGR0/flyBQKBFGjhlypTgv7/88kvNnDlTFRUVioqKUm1trSoqKvS9731P\n",
              "0lfP3r3iiiskSddee6127Nhx7j4kcA5QLLrc/703p2PHjsF/R0dHy+/3t+oYEK6f/OQnysjI0PDh\n",
              "w/X2228rPj5eQ4cO1SuvvKJf//rXWrx4cYv3mP/9rIC///3vIX+XQDjS0tKUlpamgoIC5eTk6He/\n",
              "+52efvppbd68WcnJyfrwww81dOjQkPdceumlwX8/9NBDuvLKK7Vt2zbFxMRo/PjxamxsDB7ntxNu\n",
              "xz2LLtK5c2dlZ2cH70WsqqrSxo0bW/wIAudaYWGh7rvvPg0fPlz79+/X7NmzNW/ePH3++ecaOXJk\n",
              "i/MvvfRSff/739eTTz4Z3Pfpp5/qwIED57LbOM998sknwZEWSaqrq9O+ffsUGxuriy66SD169JBp\n",
              "mnr22WdPe526ujrFxcUpJiZGH3/8sf7zP//T6a4D7QrJokv4/X517NhRL7/8smbMmKFnn31WhmFo\n",
              "5cqVio+Pj3T3AN1///2KiorSsGHD9Pbbbys2NlYFBQWWM1NffvllFRYWKj09XYZh6JJLLtHy5cuD\n",
              "t00AZ+L3+7V48WLt27dPF198sfx+v+666y7Nnj1be/fuVb9+/XTFFVdo3Lhxp73Oww8/rDvvvFMv\n",
              "vPCCkpOTNWLEiHPzAYB2gmdDu8DBgwfVp08fHTp0SBdffHGkuwOc0SeffKKrr75au3fvVufOnSPd\n",
              "HQDAaTAMfZ5bsmSJhg8frqeeeopCEeeF+fPn65prrtGTTz5JoQgA5wGSRQAAAFgiWQQAAIAlikUA\n",
              "IRITE9WnTx9lZmYqMzNTSUlJ+slPftLm6zz99NM6dOiQAz0EAJxLDEMDCJGYmKjXX39dmZmZZzz3\n",
              "dM/Nbct1AADtF8kigNNatWpVcGmRd955R/369dPUqVOVmZmp1157TStXrlTfvn2VmZmp/v376/33\n",
              "39fixYv16aefatKkScrMzFRFRYXl9U/3XPIlS5YEn987cOBA/e1vfwt538MPP6zBgwerV69eWrZs\n",
              "mZ5//nlde+21SkxM1O9///vguZs3b9aIESN09dVXKysrS6+++qrt3xMAuFbknjQIoD1KSEgwU1NT\n",
              "zYyMDDMjI8NcsmSJefPNN5umaZpvv/22aRhG8JnNpmmaXq/X/PTTT03TNM1Tp06Zx48fD17n6+c8\n",
              "n6k9q+eS/+/n9/7tb38z+/TpE/K++++/3zRN06ysrDQ7duxoPvroo6ZpmuYHH3xgXnnllaZpmmZd\n",
              "XZ2ZmZkZ7OPRo0fNXr168exzAGglFuUG0MIrr7wSHD5etWpVyLGkpCQNGzYs+PqGG27QnXfeqbFj\n",
              "x2r06NFKTU1tc3tWzyXftm2bHn/8cf3zn/8MPj3jyy+/VKdOnSRJkyZNkiSlpKSoY8eOmjhxoiTp\n",
              "6quv1meffabPP/9cmzZt0t69ezV69OiQNj/++GOefQ4ArUCxCKBN/vczcyVp3bp12rp1q9555x2N\n",
              "GTNGjz32mPLy8tp0zW96tu6pU6c0fvx4vf322xo4cKAaGhoUGxsrn88XLBb/7/u+fm0YhgzDkN/v\n",
              "l2ma6tevnzZt2hTuRwaACxr3LAIIm9/v1549e3T11Vdrzpw5mjhxoj744ANJktfrVX19fdjXbmxs\n",
              "1KlTp4KPq3zmmWfCus7gwYO1b98+vfnmm8F9FRUVOnXqVNh9A4ALCcUigLA1NzdrypQpSk9PV2Zm\n",
              "prZu3arCwkJJ0qxZszR9+vQzTnCx4vV69dhjj2nQoEEaMGCAOnToEFYfL7/8cr3xxht64oknlJGR\n",
              "ob59++qnP/2pAoFAWNcDgAsNS+cAAADAEskiAAAALDHBBYDjFi9erPXr17fYv27dOiUnJ0egRwCA\n",
              "1mIYGgAAAJYYhgYAAIAlikUAAABYolgEAACAJYpFAAAAWKJYBAAAgCWKRQAAAFiiWAQAAIAlikUA\n",
              "AABY+v/mjUoqTyey0QAAAABJRU5ErkJggg==\n",
              "\">\n",
              "      </div>\n",
              "      <script type=\"text/javascript\">\n",
              "        (() => {\n",
              "          const chartElement = document.getElementById(\"chart-e14e52b7-af9b-4e05-b0dd-0dd41b9089f1\");\n",
              "          async function getCodeForChartHandler(event) {\n",
              "            const chartCodeResponse =  await google.colab.kernel.invokeFunction(\n",
              "                'getCodeForChart', [\"chart-e14e52b7-af9b-4e05-b0dd-0dd41b9089f1\"], {});\n",
              "            const responseJson = chartCodeResponse.data['application/json'];\n",
              "            await google.colab.notebook.addCell(responseJson.code, 'code');\n",
              "          }\n",
              "          chartElement.onclick = getCodeForChartHandler;\n",
              "        })();\n",
              "      </script>\n",
              "      <style>\n",
              "        .colab-quickchart-chart-with-code  {\n",
              "            display: block;\n",
              "            float: left;\n",
              "            border: 1px solid transparent;\n",
              "        }\n",
              "\n",
              "        .colab-quickchart-chart-with-code:hover {\n",
              "            cursor: pointer;\n",
              "            border: 1px solid #aaa;\n",
              "        }\n",
              "      </style>"
            ]
          },
          "metadata": {}
        }
      ]
    },
    {
      "cell_type": "code",
      "source": [
        "df1 = pd.DataFrame(\n",
        "    {\n",
        "        'Year':[2016,2015,2014,2013,2012],\n",
        "        'Top_Animal':['Giant Panda','Chicken','Pig', 'Turkey', 'Dog']\n",
        "    }\n",
        ")"
      ],
      "metadata": {
        "id": "D-L_DdTijSZe"
      },
      "execution_count": null,
      "outputs": []
    },
    {
      "cell_type": "code",
      "source": [
        "print(df1)"
      ],
      "metadata": {
        "colab": {
          "base_uri": "https://localhost:8080/"
        },
        "id": "pBxnaBD6kU9I",
        "outputId": "ec2f16c9-afd0-4199-e778-a0294022a5b3"
      },
      "execution_count": null,
      "outputs": [
        {
          "output_type": "stream",
          "name": "stdout",
          "text": [
            "   Year   Top_Animal\n",
            "0  2016  Giant Panda\n",
            "1  2015      Chicken\n",
            "2  2014          Pig\n",
            "3  2013       Turkey\n",
            "4  2012          Dog\n"
          ]
        }
      ]
    },
    {
      "cell_type": "code",
      "source": [
        "df.rename?"
      ],
      "metadata": {
        "id": "0mKBUjdSkeMq"
      },
      "execution_count": null,
      "outputs": []
    },
    {
      "cell_type": "code",
      "source": [
        "df1.rename(columns={\"Year\":\"Calender Year\",\"Top_Animal\":\"Favourite Animal\"},inplace=True)"
      ],
      "metadata": {
        "id": "ZqFHAd9oknvT"
      },
      "execution_count": null,
      "outputs": []
    },
    {
      "cell_type": "code",
      "source": [
        "print(df1)"
      ],
      "metadata": {
        "colab": {
          "base_uri": "https://localhost:8080/"
        },
        "id": "n6dS18rllp1u",
        "outputId": "e4ec4f40-d950-434c-ad27-e78840cedadd"
      },
      "execution_count": null,
      "outputs": [
        {
          "output_type": "stream",
          "name": "stdout",
          "text": [
            "   Calender Year Favourite Animal\n",
            "0           2016      Giant Panda\n",
            "1           2015          Chicken\n",
            "2           2014              Pig\n",
            "3           2013           Turkey\n",
            "4           2012              Dog\n"
          ]
        }
      ]
    },
    {
      "cell_type": "code",
      "source": [
        "df[df.last_name.str.match('.*onno.*')]"
      ],
      "metadata": {
        "colab": {
          "base_uri": "https://localhost:8080/",
          "height": 112
        },
        "id": "KvioaWNGm8Q_",
        "outputId": "1e602f41-de40-42e3-cc25-ca9534815ce4"
      },
      "execution_count": null,
      "outputs": [
        {
          "output_type": "execute_result",
          "data": {
            "text/plain": [
              "  First_name last_name\n",
              "0      Sarah    Connor\n",
              "1       John    Connor"
            ],
            "text/html": [
              "\n",
              "  <div id=\"df-b99f9d7e-8e4c-47c4-9e57-851e868ee9a6\" class=\"colab-df-container\">\n",
              "    <div>\n",
              "<style scoped>\n",
              "    .dataframe tbody tr th:only-of-type {\n",
              "        vertical-align: middle;\n",
              "    }\n",
              "\n",
              "    .dataframe tbody tr th {\n",
              "        vertical-align: top;\n",
              "    }\n",
              "\n",
              "    .dataframe thead th {\n",
              "        text-align: right;\n",
              "    }\n",
              "</style>\n",
              "<table border=\"1\" class=\"dataframe\">\n",
              "  <thead>\n",
              "    <tr style=\"text-align: right;\">\n",
              "      <th></th>\n",
              "      <th>First_name</th>\n",
              "      <th>last_name</th>\n",
              "    </tr>\n",
              "  </thead>\n",
              "  <tbody>\n",
              "    <tr>\n",
              "      <th>0</th>\n",
              "      <td>Sarah</td>\n",
              "      <td>Connor</td>\n",
              "    </tr>\n",
              "    <tr>\n",
              "      <th>1</th>\n",
              "      <td>John</td>\n",
              "      <td>Connor</td>\n",
              "    </tr>\n",
              "  </tbody>\n",
              "</table>\n",
              "</div>\n",
              "    <div class=\"colab-df-buttons\">\n",
              "\n",
              "  <div class=\"colab-df-container\">\n",
              "    <button class=\"colab-df-convert\" onclick=\"convertToInteractive('df-b99f9d7e-8e4c-47c4-9e57-851e868ee9a6')\"\n",
              "            title=\"Convert this dataframe to an interactive table.\"\n",
              "            style=\"display:none;\">\n",
              "\n",
              "  <svg xmlns=\"http://www.w3.org/2000/svg\" height=\"24px\" viewBox=\"0 -960 960 960\">\n",
              "    <path d=\"M120-120v-720h720v720H120Zm60-500h600v-160H180v160Zm220 220h160v-160H400v160Zm0 220h160v-160H400v160ZM180-400h160v-160H180v160Zm440 0h160v-160H620v160ZM180-180h160v-160H180v160Zm440 0h160v-160H620v160Z\"/>\n",
              "  </svg>\n",
              "    </button>\n",
              "\n",
              "  <style>\n",
              "    .colab-df-container {\n",
              "      display:flex;\n",
              "      gap: 12px;\n",
              "    }\n",
              "\n",
              "    .colab-df-convert {\n",
              "      background-color: #E8F0FE;\n",
              "      border: none;\n",
              "      border-radius: 50%;\n",
              "      cursor: pointer;\n",
              "      display: none;\n",
              "      fill: #1967D2;\n",
              "      height: 32px;\n",
              "      padding: 0 0 0 0;\n",
              "      width: 32px;\n",
              "    }\n",
              "\n",
              "    .colab-df-convert:hover {\n",
              "      background-color: #E2EBFA;\n",
              "      box-shadow: 0px 1px 2px rgba(60, 64, 67, 0.3), 0px 1px 3px 1px rgba(60, 64, 67, 0.15);\n",
              "      fill: #174EA6;\n",
              "    }\n",
              "\n",
              "    .colab-df-buttons div {\n",
              "      margin-bottom: 4px;\n",
              "    }\n",
              "\n",
              "    [theme=dark] .colab-df-convert {\n",
              "      background-color: #3B4455;\n",
              "      fill: #D2E3FC;\n",
              "    }\n",
              "\n",
              "    [theme=dark] .colab-df-convert:hover {\n",
              "      background-color: #434B5C;\n",
              "      box-shadow: 0px 1px 3px 1px rgba(0, 0, 0, 0.15);\n",
              "      filter: drop-shadow(0px 1px 2px rgba(0, 0, 0, 0.3));\n",
              "      fill: #FFFFFF;\n",
              "    }\n",
              "  </style>\n",
              "\n",
              "    <script>\n",
              "      const buttonEl =\n",
              "        document.querySelector('#df-b99f9d7e-8e4c-47c4-9e57-851e868ee9a6 button.colab-df-convert');\n",
              "      buttonEl.style.display =\n",
              "        google.colab.kernel.accessAllowed ? 'block' : 'none';\n",
              "\n",
              "      async function convertToInteractive(key) {\n",
              "        const element = document.querySelector('#df-b99f9d7e-8e4c-47c4-9e57-851e868ee9a6');\n",
              "        const dataTable =\n",
              "          await google.colab.kernel.invokeFunction('convertToInteractive',\n",
              "                                                    [key], {});\n",
              "        if (!dataTable) return;\n",
              "\n",
              "        const docLinkHtml = 'Like what you see? Visit the ' +\n",
              "          '<a target=\"_blank\" href=https://colab.research.google.com/notebooks/data_table.ipynb>data table notebook</a>'\n",
              "          + ' to learn more about interactive tables.';\n",
              "        element.innerHTML = '';\n",
              "        dataTable['output_type'] = 'display_data';\n",
              "        await google.colab.output.renderOutput(dataTable, element);\n",
              "        const docLink = document.createElement('div');\n",
              "        docLink.innerHTML = docLinkHtml;\n",
              "        element.appendChild(docLink);\n",
              "      }\n",
              "    </script>\n",
              "  </div>\n",
              "\n",
              "\n",
              "<div id=\"df-abadcaef-1686-4827-b8b9-6b740bd33be1\">\n",
              "  <button class=\"colab-df-quickchart\" onclick=\"quickchart('df-abadcaef-1686-4827-b8b9-6b740bd33be1')\"\n",
              "            title=\"Suggest charts\"\n",
              "            style=\"display:none;\">\n",
              "\n",
              "<svg xmlns=\"http://www.w3.org/2000/svg\" height=\"24px\"viewBox=\"0 0 24 24\"\n",
              "     width=\"24px\">\n",
              "    <g>\n",
              "        <path d=\"M19 3H5c-1.1 0-2 .9-2 2v14c0 1.1.9 2 2 2h14c1.1 0 2-.9 2-2V5c0-1.1-.9-2-2-2zM9 17H7v-7h2v7zm4 0h-2V7h2v10zm4 0h-2v-4h2v4z\"/>\n",
              "    </g>\n",
              "</svg>\n",
              "  </button>\n",
              "\n",
              "<style>\n",
              "  .colab-df-quickchart {\n",
              "      --bg-color: #E8F0FE;\n",
              "      --fill-color: #1967D2;\n",
              "      --hover-bg-color: #E2EBFA;\n",
              "      --hover-fill-color: #174EA6;\n",
              "      --disabled-fill-color: #AAA;\n",
              "      --disabled-bg-color: #DDD;\n",
              "  }\n",
              "\n",
              "  [theme=dark] .colab-df-quickchart {\n",
              "      --bg-color: #3B4455;\n",
              "      --fill-color: #D2E3FC;\n",
              "      --hover-bg-color: #434B5C;\n",
              "      --hover-fill-color: #FFFFFF;\n",
              "      --disabled-bg-color: #3B4455;\n",
              "      --disabled-fill-color: #666;\n",
              "  }\n",
              "\n",
              "  .colab-df-quickchart {\n",
              "    background-color: var(--bg-color);\n",
              "    border: none;\n",
              "    border-radius: 50%;\n",
              "    cursor: pointer;\n",
              "    display: none;\n",
              "    fill: var(--fill-color);\n",
              "    height: 32px;\n",
              "    padding: 0;\n",
              "    width: 32px;\n",
              "  }\n",
              "\n",
              "  .colab-df-quickchart:hover {\n",
              "    background-color: var(--hover-bg-color);\n",
              "    box-shadow: 0 1px 2px rgba(60, 64, 67, 0.3), 0 1px 3px 1px rgba(60, 64, 67, 0.15);\n",
              "    fill: var(--button-hover-fill-color);\n",
              "  }\n",
              "\n",
              "  .colab-df-quickchart-complete:disabled,\n",
              "  .colab-df-quickchart-complete:disabled:hover {\n",
              "    background-color: var(--disabled-bg-color);\n",
              "    fill: var(--disabled-fill-color);\n",
              "    box-shadow: none;\n",
              "  }\n",
              "\n",
              "  .colab-df-spinner {\n",
              "    border: 2px solid var(--fill-color);\n",
              "    border-color: transparent;\n",
              "    border-bottom-color: var(--fill-color);\n",
              "    animation:\n",
              "      spin 1s steps(1) infinite;\n",
              "  }\n",
              "\n",
              "  @keyframes spin {\n",
              "    0% {\n",
              "      border-color: transparent;\n",
              "      border-bottom-color: var(--fill-color);\n",
              "      border-left-color: var(--fill-color);\n",
              "    }\n",
              "    20% {\n",
              "      border-color: transparent;\n",
              "      border-left-color: var(--fill-color);\n",
              "      border-top-color: var(--fill-color);\n",
              "    }\n",
              "    30% {\n",
              "      border-color: transparent;\n",
              "      border-left-color: var(--fill-color);\n",
              "      border-top-color: var(--fill-color);\n",
              "      border-right-color: var(--fill-color);\n",
              "    }\n",
              "    40% {\n",
              "      border-color: transparent;\n",
              "      border-right-color: var(--fill-color);\n",
              "      border-top-color: var(--fill-color);\n",
              "    }\n",
              "    60% {\n",
              "      border-color: transparent;\n",
              "      border-right-color: var(--fill-color);\n",
              "    }\n",
              "    80% {\n",
              "      border-color: transparent;\n",
              "      border-right-color: var(--fill-color);\n",
              "      border-bottom-color: var(--fill-color);\n",
              "    }\n",
              "    90% {\n",
              "      border-color: transparent;\n",
              "      border-bottom-color: var(--fill-color);\n",
              "    }\n",
              "  }\n",
              "</style>\n",
              "\n",
              "  <script>\n",
              "    async function quickchart(key) {\n",
              "      const quickchartButtonEl =\n",
              "        document.querySelector('#' + key + ' button');\n",
              "      quickchartButtonEl.disabled = true;  // To prevent multiple clicks.\n",
              "      quickchartButtonEl.classList.add('colab-df-spinner');\n",
              "      try {\n",
              "        const charts = await google.colab.kernel.invokeFunction(\n",
              "            'suggestCharts', [key], {});\n",
              "      } catch (error) {\n",
              "        console.error('Error during call to suggestCharts:', error);\n",
              "      }\n",
              "      quickchartButtonEl.classList.remove('colab-df-spinner');\n",
              "      quickchartButtonEl.classList.add('colab-df-quickchart-complete');\n",
              "    }\n",
              "    (() => {\n",
              "      let quickchartButtonEl =\n",
              "        document.querySelector('#df-abadcaef-1686-4827-b8b9-6b740bd33be1 button');\n",
              "      quickchartButtonEl.style.display =\n",
              "        google.colab.kernel.accessAllowed ? 'block' : 'none';\n",
              "    })();\n",
              "  </script>\n",
              "</div>\n",
              "    </div>\n",
              "  </div>\n"
            ],
            "application/vnd.google.colaboratory.intrinsic+json": {
              "type": "dataframe",
              "summary": "{\n  \"name\": \"df[df\",\n  \"rows\": 2,\n  \"fields\": [\n    {\n      \"column\": \"First_name\",\n      \"properties\": {\n        \"dtype\": \"string\",\n        \"num_unique_values\": 2,\n        \"samples\": [\n          \"John\",\n          \"Sarah\"\n        ],\n        \"semantic_type\": \"\",\n        \"description\": \"\"\n      }\n    },\n    {\n      \"column\": \"last_name\",\n      \"properties\": {\n        \"dtype\": \"string\",\n        \"num_unique_values\": 1,\n        \"samples\": [\n          \"Connor\"\n        ],\n        \"semantic_type\": \"\",\n        \"description\": \"\"\n      }\n    }\n  ]\n}"
            }
          },
          "metadata": {},
          "execution_count": 20
        }
      ]
    },
    {
      "cell_type": "code",
      "source": [
        "j = 0\n",
        "k=1\n",
        "print(j ,  k, end = \"  \")\n",
        "for i in range(10):\n",
        "  sum = j+k\n",
        "  print(sum, end = \"  \")\n",
        "  j=k\n",
        "  k = sum"
      ],
      "metadata": {
        "id": "kcsn3E-F2M95",
        "colab": {
          "base_uri": "https://localhost:8080/"
        },
        "outputId": "09d3f7f7-9233-4352-8744-6d835afffcb5"
      },
      "execution_count": null,
      "outputs": [
        {
          "output_type": "stream",
          "name": "stdout",
          "text": [
            "0 1  1  2  3  5  8  13  21  34  55  89  "
          ]
        }
      ]
    },
    {
      "cell_type": "code",
      "source": [
        "def isPrime(num):\n",
        "  if( num==0 or num ==1):\n",
        "    return False\n",
        "  for i in range(2, num):\n",
        "    if( num%i == 0):\n",
        "      return False\n",
        "  return True\n",
        "for j in range(1,100):\n",
        "  if(isPrime(j)):\n",
        "    print(j, end = \"  \")"
      ],
      "metadata": {
        "colab": {
          "base_uri": "https://localhost:8080/"
        },
        "id": "BDebViSj8DpO",
        "outputId": "20ccd8e5-42f6-4055-aa4a-3a58c103f13f"
      },
      "execution_count": null,
      "outputs": [
        {
          "output_type": "stream",
          "name": "stdout",
          "text": [
            "2  3  5  7  11  13  17  19  23  29  31  37  41  43  47  53  59  61  67  71  73  79  83  89  97  "
          ]
        }
      ]
    },
    {
      "cell_type": "code",
      "source": [
        "#merge sort\n",
        "def merge_sort(arr, beg, end):\n",
        "\n",
        "  if beg<end:\n",
        "    mid = beg+(end-beg)//2\n",
        "    merge_sort(arr, beg,mid)\n",
        "    merge_sort(arr,mid+1,end)\n",
        "    merge(arr,beg, mid, end)\n",
        "  return arr\n",
        "\n",
        "def merge(arr, beg, mid, end):\n",
        "  n1 = mid-beg+1\n",
        "  n2 = end - mid\n",
        "  leftArray = [0]*n1\n",
        "  rightArray = [0]* n2\n",
        "  for i in range (n1):\n",
        "    leftArray[i]= arr[beg+i]\n",
        "  for j in range (n2):\n",
        "    rightArray[j]= arr[mid+1+j]\n",
        "\n",
        "  i=0\n",
        "  j=0\n",
        "  k=beg\n",
        "  while i<n1 and j<n2:\n",
        "    if leftArray[i]<=rightArray[j]:\n",
        "      arr[k]=leftArray[i]\n",
        "      i += 1\n",
        "    else:\n",
        "      arr[k]=rightArray[j]\n",
        "      j += 1\n",
        "    k=k+1\n",
        "  while i<n1:\n",
        "    arr[k]=leftArray[i]\n",
        "    i += 1\n",
        "    k += 1\n",
        "  while j<n2:\n",
        "    arr[k]= rightArray[j]\n",
        "    j  +=  1\n",
        "    k  +=  1\n",
        "  print (arr)\n",
        "arr= [45,12,9,25,56,10,3,66]\n",
        "result = merge_sort(arr, 0,len(arr)-1)\n",
        "print(result)\n",
        "\n"
      ],
      "metadata": {
        "id": "jtHgRzQRHzL3",
        "colab": {
          "base_uri": "https://localhost:8080/"
        },
        "outputId": "feea2336-8ac8-48a5-8faf-92b3672c1f35"
      },
      "execution_count": null,
      "outputs": [
        {
          "output_type": "stream",
          "name": "stdout",
          "text": [
            "[12, 45, 9, 25, 56, 10, 3, 66]\n",
            "[12, 45, 9, 25, 56, 10, 3, 66]\n",
            "[9, 12, 25, 45, 56, 10, 3, 66]\n",
            "[9, 12, 25, 45, 10, 56, 3, 66]\n",
            "[9, 12, 25, 45, 10, 56, 3, 66]\n",
            "[9, 12, 25, 45, 3, 10, 56, 66]\n",
            "[3, 9, 10, 12, 25, 45, 56, 66]\n",
            "[3, 9, 10, 12, 25, 45, 56, 66]\n"
          ]
        }
      ]
    },
    {
      "cell_type": "markdown",
      "source": [
        "# **BUBBLE SORT**"
      ],
      "metadata": {
        "id": "BDKpM4ewLIzv"
      }
    },
    {
      "cell_type": "code",
      "source": [
        "arr= [45,12,9,25,56,10,3,66]\n",
        "n = len(arr)\n",
        "for i in range(n):\n",
        "  for j in range(n-i-1):\n",
        "    if arr[j]>arr[j+1]:\n",
        "      temp = arr[j]\n",
        "      arr[j]=arr[j+1]\n",
        "      arr[j+1] = temp\n",
        "\n",
        "print(arr)"
      ],
      "metadata": {
        "colab": {
          "base_uri": "https://localhost:8080/"
        },
        "id": "RmWtmfRBlOmi",
        "outputId": "ef782e76-6da2-4b10-9450-2400cc7cd690"
      },
      "execution_count": null,
      "outputs": [
        {
          "output_type": "stream",
          "name": "stdout",
          "text": [
            "[3, 9, 10, 12, 25, 45, 56, 66]\n"
          ]
        }
      ]
    },
    {
      "cell_type": "code",
      "source": [
        "def quicksort(arr):\n",
        "  if len(arr) <=1:\n",
        "    return arr\n",
        "  else :\n",
        "    pivot = arr[len(arr)-1]\n",
        "    left= [x  for x in arr[:-1] if x<= pivot]\n",
        "    right = [ x for x in arr[:-1] if x > pivot]\n",
        "    return quicksort(left) + [pivot] + quicksort(right)\n",
        "arr= [45,12,9,25,56,10,3,66]\n",
        "result = quicksort(arr)\n",
        "\n",
        "print(result)"
      ],
      "metadata": {
        "colab": {
          "base_uri": "https://localhost:8080/"
        },
        "id": "-sJVpddlsXmt",
        "outputId": "8cadbc8b-cb61-43b0-88f9-90bcaca7671f"
      },
      "execution_count": null,
      "outputs": [
        {
          "output_type": "stream",
          "name": "stdout",
          "text": [
            "[3, 9, 10, 12, 25, 45, 56, 66]\n"
          ]
        }
      ]
    },
    {
      "cell_type": "markdown",
      "source": [
        "LEET CODE - EASY - FREQUENCY OF COMMON CHARACTERS"
      ],
      "metadata": {
        "id": "5tsk484aOp_d"
      }
    },
    {
      "cell_type": "code",
      "source": [
        "words = [\"coolfa\",\"loockna\",\"saloea\"]\n",
        "print(len(words))\n",
        "print(words[2])\n",
        "char_counts= {i : {} for i in range(len(words))}\n",
        "result_char = {}\n",
        "is_present={}\n",
        "chars1= []\n",
        "for i in range(len(words)):\n",
        "  for j in words[i]:\n",
        "    if j in char_counts[i]:\n",
        "      char_counts[i][j] += 1\n",
        "    else: char_counts[i][j] = 1\n",
        "for k in range (0,3):\n",
        "  print(char_counts[k])\n",
        "for y in words[0]:\n",
        "  is_present[y]= True\n",
        "for a in words[0]:\n",
        "  for b in range(1,len(words)):\n",
        "    if a not in char_counts[b]:\n",
        "      is_present[a] = False\n",
        "for m in words[0]:\n",
        "  for n in range(1,len(words)):\n",
        "    if is_present[m] == True:\n",
        "      if char_counts[0][m]>=char_counts[n][m]:\n",
        "        result_char[m] = char_counts[n][m]\n",
        "for p in result_char:\n",
        "  for q in range(0,result_char[p]):\n",
        "    chars1.append(p)\n",
        "print(chars1)\n",
        "print(result_char)"
      ],
      "metadata": {
        "colab": {
          "base_uri": "https://localhost:8080/"
        },
        "id": "eM0SJsbaUpB3",
        "outputId": "96ec2ece-33b3-4507-f9b7-9a550336aea3"
      },
      "execution_count": null,
      "outputs": [
        {
          "output_type": "stream",
          "name": "stdout",
          "text": [
            "3\n",
            "saloea\n",
            "{'c': 1, 'o': 2, 'l': 1, 'f': 1, 'a': 1}\n",
            "{'l': 1, 'o': 2, 'c': 1, 'k': 1, 'n': 1, 'a': 1}\n",
            "{'s': 1, 'a': 2, 'l': 1, 'o': 1, 'e': 1}\n",
            "['o', 'l', 'a']\n",
            "{'o': 1, 'l': 1, 'a': 1}\n"
          ]
        }
      ]
    },
    {
      "cell_type": "code",
      "source": [
        "words = [\"cool\", \"lock\",\"saleeoo\"]\n",
        "char_counts ={i: {} for i in range(len(words))}\n",
        "final_chars=[]\n",
        "result_char={}\n",
        "is_present={}\n",
        "\n",
        "# take the count of all the characters in the words array\n",
        "for i in range(0,len(words)):\n",
        "  for j in words[i]:\n",
        "    if j in char_counts[i]:b\n",
        "      char_counts[i][j] += 1\n",
        "    else: char_counts[i][j]=1\n",
        "\n",
        "# check if the character is present in all the words\n",
        "\n",
        "# initialise the is_present default as True\n",
        "for p in words[0]:\n",
        "  is_present[p] =True\n",
        "\n",
        "for k in words[0]:\n",
        "  for l in range(1, len(words)):\n",
        "    if k not in words[l]:\n",
        "      is_present[k]= False\n",
        "\n",
        "for s in words[0]:\n",
        "  for t in range(1,len(words)):\n",
        "    if is_present[s] == True:\n",
        "      if char_counts[0][s]>= char_counts[t][s]:\n",
        "        result_char[s] = char_counts[t][s]\n",
        "for w in result_char:\n",
        "  for a in range(0,result_char[w]):\n",
        "    final_chars.append(w)\n",
        "print(result_char)\n",
        "print(final_chars)\n",
        "\n",
        "\n"
      ],
      "metadata": {
        "colab": {
          "base_uri": "https://localhost:8080/"
        },
        "id": "9uc9f2mLsXz0",
        "outputId": "43e2e091-6a2a-46ae-e824-192962973b43"
      },
      "execution_count": null,
      "outputs": [
        {
          "output_type": "stream",
          "name": "stdout",
          "text": [
            "{'o': 2, 'l': 1}\n",
            "['o', 'o', 'l']\n"
          ]
        }
      ]
    },
    {
      "cell_type": "code",
      "source": [
        "words = [\"cool\", \"lock\",\"saleeoo\"]\n",
        "char_counts ={i: {} for i in range(len(words))}\n",
        "final_chars={}\n",
        "result_char=[]\n",
        "is_present={}\n",
        "\n",
        "# take the count of all the characters in the words array\n",
        "for i in range(0,len(words)):\n",
        "  for j in words[i]:\n",
        "    if j in char_counts[i]:\n",
        "      char_counts[i][j] += 1\n",
        "    else: char_counts[i][j]=1\n",
        "\n",
        "# check if the character is present in all the words\n",
        "\n",
        "# initialise the is_present default as True\n",
        "for p in words[0]:\n",
        "  is_present[p] =True\n",
        "\n",
        "for k in words[0]:\n",
        "  for l in range(1, len(words)):\n",
        "    if k not in words[l]:\n",
        "      is_present[k]= False\n",
        "\n",
        "for s in words[0]:\n",
        "  for t in range(1,len(words)):\n",
        "    if is_present[s] == True:\n",
        "      if char_counts[0][s]>= char_counts[t][s]:\n",
        "        result_chars[s] = char_counts[t][s]\n",
        "\n",
        "\n",
        "print(result_chars)"
      ],
      "metadata": {
        "id": "en2JQ8nFv7A6"
      },
      "execution_count": null,
      "outputs": []
    },
    {
      "cell_type": "code",
      "source": [
        "class Node:\n",
        "  def __init__(self, data):\n",
        "    self.data = data\n",
        "    self.next = None\n",
        "node1 = Node(10)\n",
        "node2 = Node(20)\n",
        "node3= Node(30)\n",
        "node4 = Node(40)\n",
        "\n",
        "node1.next = node2\n",
        "node2.next = node3\n",
        "node3.next = node4\n",
        "currentNode = node1\n",
        "\n",
        "while currentNode:\n",
        "  print(currentNode.data, end = \"->\")\n",
        "  currentNode = currentNode.next\n",
        "print(\"null\")"
      ],
      "metadata": {
        "id": "gltzdhSS0xEc",
        "colab": {
          "base_uri": "https://localhost:8080/"
        },
        "outputId": "d4c39a3a-4a5f-4bbe-f410-2b4f2e4b853f"
      },
      "execution_count": null,
      "outputs": [
        {
          "output_type": "stream",
          "name": "stdout",
          "text": [
            "10->20->30->40->null\n"
          ]
        }
      ]
    },
    {
      "cell_type": "markdown",
      "source": [
        "# ***DOUBLE LINKED LIST***"
      ],
      "metadata": {
        "id": "rzAcO8kem6Cp"
      }
    },
    {
      "cell_type": "code",
      "source": [
        "class Node:\n",
        "  def __init__(self, data):\n",
        "    self.data = data\n",
        "    self.prev = None\n",
        "    self.next = None\n",
        "\n",
        "node1= Node(10)\n",
        "node2= Node(50)\n",
        "node3 = Node(6)\n",
        "node4 = Node(15)\n",
        "\n",
        "node1.next = node2\n",
        "node2.next = node3\n",
        "node3.next = node4\n",
        "\n",
        "node2.prev = node1\n",
        "node3.prev=node2\n",
        "node4.prev= node3\n",
        "\n",
        "print(\"\\n Traversing Forward:\")\n",
        "currentnode = node1\n",
        "while currentnode:\n",
        "  print(currentnode.data,end= \"->\")\n",
        "  currentnode= currentnode.next\n",
        "print(\"null\\n\")\n",
        "print(\"\\n Traversing Backward\")\n",
        "currentnode= node4\n",
        "while currentnode:\n",
        "  print(currentnode.data, end = \"->\")\n",
        "  currentnode = currentnode.prev\n",
        "print(\"null\\n\")\n",
        "\n"
      ],
      "metadata": {
        "colab": {
          "base_uri": "https://localhost:8080/"
        },
        "id": "YhchxiW7mOQS",
        "outputId": "b0683ed3-b71c-4b09-a64a-a4265f8165a1"
      },
      "execution_count": null,
      "outputs": [
        {
          "output_type": "stream",
          "name": "stdout",
          "text": [
            "\n",
            " Traversing Forward:\n",
            "10->50->6->15->null\n",
            "\n",
            "\n",
            " Traversing Backward\n",
            "15->6->50->10->null\n",
            "\n"
          ]
        }
      ]
    },
    {
      "cell_type": "code",
      "source": [],
      "metadata": {
        "id": "3kCW5RJBqaDR"
      },
      "execution_count": null,
      "outputs": []
    },
    {
      "cell_type": "markdown",
      "source": [
        "# ***CIRCULAR SINGLY LINKED LIST***"
      ],
      "metadata": {
        "id": "yyv0bjYUqFLN"
      }
    },
    {
      "cell_type": "code",
      "source": [
        "class Node:\n",
        "  def __init__(self, data):\n",
        "    self.data = data\n",
        "    self.next = None\n",
        "node1 = Node(10)\n",
        "node2 = Node(20)\n",
        "node3= Node(30)\n",
        "node4 = Node(40)\n",
        "\n",
        "node1.next = node2\n",
        "node2.next = node3\n",
        "node3.next = node4\n",
        "node4.next = node1\n",
        "\n",
        "currentNode = node1\n",
        "startnode = node1\n",
        "print(currentNode.data,end= \"->\")\n",
        "currentNode = currentNode.next\n",
        "\n",
        "while currentNode!=startnode:\n",
        "  print(currentNode.data, end = \"->\")\n",
        "  currentNode = currentNode.next\n",
        "print(\"null\")"
      ],
      "metadata": {
        "colab": {
          "base_uri": "https://localhost:8080/"
        },
        "id": "8IZjnNtGpZ7W",
        "outputId": "27c15851-5133-4a6f-c2d2-0e9a2dc749c8"
      },
      "execution_count": null,
      "outputs": [
        {
          "output_type": "stream",
          "name": "stdout",
          "text": [
            "10->20->30->40->null\n"
          ]
        }
      ]
    },
    {
      "cell_type": "markdown",
      "source": [
        "CIRCULAR DOUBLY LINKED LIST"
      ],
      "metadata": {
        "id": "zn8aLII_qdjD"
      }
    },
    {
      "cell_type": "code",
      "source": [
        "class Node:\n",
        "  def __init__(self, data):\n",
        "    self.data = data\n",
        "    self.prev = None\n",
        "    self.next = None\n",
        "\n",
        "node1= Node(10)\n",
        "node2= Node(50)\n",
        "node3 = Node(6)\n",
        "node4 = Node(15)\n",
        "\n",
        "node1.next = node2\n",
        "node2.next = node3\n",
        "node3.next = node4\n",
        "node4.next = node1\n",
        "\n",
        "node2.prev = node1\n",
        "node3.prev=node2\n",
        "node4.prev= node3\n",
        "node1.prev = node4\n",
        "\n",
        "print(\"\\n Traversing Forward:\")\n",
        "\n",
        "currentnode = node1\n",
        "startnode = node1\n",
        "print(currentnode.data,end=\"->\")\n",
        "currentnode = currentnode.next\n",
        "while currentnode!=startnode:\n",
        "  print(currentnode.data,end= \"->\")\n",
        "  currentnode= currentnode.next\n",
        "print(\"null\\n\")\n",
        "\n",
        "print(\"\\n Traversing Backward\")\n",
        "currentnode= node4\n",
        "startnode = node4\n",
        "print(currentnode.data,end= \"->\")\n",
        "currentnode = currentnode.prev\n",
        "while currentnode!=startnode:\n",
        "  print(currentnode.data, end = \"->\")\n",
        "  currentnode = currentnode.prev\n",
        "print(\"null\\n\")\n"
      ],
      "metadata": {
        "colab": {
          "base_uri": "https://localhost:8080/"
        },
        "id": "1sHt4du0qK4b",
        "outputId": "25336100-e7a8-4502-fd07-d64ab7c37b11"
      },
      "execution_count": null,
      "outputs": [
        {
          "output_type": "stream",
          "name": "stdout",
          "text": [
            "\n",
            " Traversing Forward:\n",
            "10->50->6->15->null\n",
            "\n",
            "\n",
            " Traversing Backward\n",
            "15->6->50->10->null\n",
            "\n"
          ]
        }
      ]
    },
    {
      "cell_type": "markdown",
      "source": [
        "# ***Find Lowest Element in Singly Linked List***"
      ],
      "metadata": {
        "id": "bKXdkT20PvGs"
      }
    },
    {
      "cell_type": "code",
      "source": [
        "class Node:\n",
        "  def __init__(self, data):\n",
        "    self.data = data\n",
        "    self.next =None\n",
        "\n",
        "def Findlowest(head):\n",
        "  minvalue = head.data\n",
        "  currentnode = head.next\n",
        "  while currentnode:\n",
        "    if currentnode.data < minvalue:\n",
        "      minvalue = currentnode.data\n",
        "    currentnode = currentnode.next\n",
        "  return minvalue\n",
        "node1 = Node(10)\n",
        "node2= Node(50)\n",
        "node5 = Node(25)\n",
        "node3 = Node(31)\n",
        "node4= Node(100)\n",
        "\n",
        "node1.next = node2\n",
        "node2.next = node3\n",
        "node3.next = node4\n",
        "node4.next = node5\n",
        "\n",
        "minimum = Findlowest(node1)\n",
        "print(minimum)"
      ],
      "metadata": {
        "colab": {
          "base_uri": "https://localhost:8080/"
        },
        "id": "I-Ykir8AP-lh",
        "outputId": "c524ddc9-5f25-4436-f547-da713a7eb8c0"
      },
      "execution_count": null,
      "outputs": [
        {
          "output_type": "stream",
          "name": "stdout",
          "text": [
            "10\n"
          ]
        }
      ]
    },
    {
      "cell_type": "markdown",
      "source": [
        "# ***Deleting a node in singly linked list***"
      ],
      "metadata": {
        "id": "wpBZt5isSmgV"
      }
    },
    {
      "cell_type": "code",
      "source": [
        "class Node:\n",
        "  def __init__(self, data):\n",
        "    self.data = data\n",
        "    self.next = None\n",
        "def Traverse(node1):\n",
        "  currentnode = node1\n",
        "  while currentnode:\n",
        "    print(currentnode.data,end = \"->\")\n",
        "    currentnode = currentnode.next\n",
        "  print(\"null\\n\")\n",
        "def deletenode(head, nodetodelete):\n",
        "  if head == nodetodelete:\n",
        "    return head\n",
        "  currentnode = head\n",
        "  while currentnode and currentnode.next != nodetodelete:\n",
        "    currentnode = currentnode.next\n",
        "  if currentnode.next is None:\n",
        "    return head\n",
        "  currentnode.next = nodetodelete.next\n",
        "  return head\n",
        "node1 = Node(10)\n",
        "node2= Node(30)\n",
        "node3= Node(40)\n",
        "node4= Node(50)\n",
        "node5 = Node(60)\n",
        "\n",
        "node1.next = node2\n",
        "node2.next = node3\n",
        "node3.next = node4\n",
        "node4.next = node5\n",
        "\n",
        "Traverse(node1)\n",
        "\n",
        "node1= deletenode(node1, node3)\n",
        "\n",
        "Traverse(node1)"
      ],
      "metadata": {
        "colab": {
          "base_uri": "https://localhost:8080/"
        },
        "id": "ZqSxzW4QT0wa",
        "outputId": "d85867d4-b13d-48ad-b0d2-eac50c2ea956"
      },
      "execution_count": null,
      "outputs": [
        {
          "output_type": "stream",
          "name": "stdout",
          "text": [
            "10->30->40->50->60->null\n",
            "\n",
            "10->30->50->60->null\n",
            "\n"
          ]
        }
      ]
    },
    {
      "cell_type": "markdown",
      "source": [
        "# ***Insert a node in Singly Linked List***"
      ],
      "metadata": {
        "id": "p_UpXmNiV2yL"
      }
    },
    {
      "cell_type": "code",
      "source": [
        "class Node:\n",
        "  def __init__(self, data):\n",
        "    self.data = data\n",
        "    self.next = None\n",
        "\n",
        "def Traverse(node1):\n",
        "  currentnode = node1\n",
        "  while currentnode:\n",
        "    print(currentnode.data,end = \"->\")\n",
        "    currentnode = currentnode.next\n",
        "  print(\"null\\n\")\n",
        "\n",
        "def InsertatPosition(head, pos):\n",
        "  if pos==1:\n",
        "    newnode.next = head\n",
        "    return newnode\n",
        "  currentnode = head\n",
        "  for _ in range(pos-2):\n",
        "    if currentnode is None:\n",
        "      break\n",
        "    currentnode = currentnode.next\n",
        "  newnode.next = currentnode.next\n",
        "  currentnode.next  = newnode\n",
        "  return head\n",
        "\n",
        "node1 = Node(10)\n",
        "node2 = Node(20)\n",
        "node3 = Node(30)\n",
        "node4 = Node(40)\n",
        "node5 = Node(50)\n",
        "\n",
        "node1.next = node2\n",
        "node2.next = node3\n",
        "node3.next = node4\n",
        "node4.next = node5\n",
        "\n",
        "newnode = Node(90)\n",
        "\n",
        "Traverse(node1)\n",
        "\n",
        "node1 = InsertatPosition(node1,3)\n",
        "\n",
        "Traverse(node1)\n"
      ],
      "metadata": {
        "id": "qIDGnG3TWyo4",
        "colab": {
          "base_uri": "https://localhost:8080/"
        },
        "outputId": "037579b1-b7d0-4b46-8e57-eb11e672aa45"
      },
      "execution_count": null,
      "outputs": [
        {
          "output_type": "stream",
          "name": "stdout",
          "text": [
            "10->20->30->40->50->null\n",
            "\n",
            "10->20->90->30->40->50->null\n",
            "\n"
          ]
        }
      ]
    },
    {
      "cell_type": "markdown",
      "source": [
        "# ***INORDER TREE TRAVERSAL***"
      ],
      "metadata": {
        "id": "8RA0HeRlpWc0"
      }
    },
    {
      "cell_type": "code",
      "source": [
        "class Node:\n",
        "  def __init__(self, data):\n",
        "    self.data = data\n",
        "    self.left = None\n",
        "    self.right = None\n",
        "\n",
        "def inorder(root):\n",
        "  if root is None:\n",
        "    return\n",
        "  inorder(root.left)\n",
        "  print(root.data)\n",
        "  inorder(root.right)\n",
        "Root = Node('R')\n",
        "nodeA = Node('A')\n",
        "nodeB = Node('B')\n",
        "nodeC = Node('C')\n",
        "nodeD = Node('D')\n",
        "nodeE = Node('E')\n",
        "nodeF = Node('F')\n",
        "\n",
        "Root.left = nodeA\n",
        "Root.right = nodeB\n",
        "\n",
        "nodeA.left = nodeC\n",
        "nodeA.right = nodeD\n",
        "\n",
        "nodeB.left =nodeE\n",
        "nodeB.right = nodeF\n",
        "\n",
        "inorder(Root)\n"
      ],
      "metadata": {
        "colab": {
          "base_uri": "https://localhost:8080/"
        },
        "id": "AxGCqBM7paKT",
        "outputId": "848a7487-ed86-4c46-ece4-ad2a74d32ab1"
      },
      "execution_count": null,
      "outputs": [
        {
          "output_type": "stream",
          "name": "stdout",
          "text": [
            "C\n",
            "A\n",
            "D\n",
            "R\n",
            "E\n",
            "B\n",
            "F\n"
          ]
        }
      ]
    },
    {
      "cell_type": "markdown",
      "source": [
        "# ***PRE ORDER TREE TRAVERSAL***"
      ],
      "metadata": {
        "id": "oGCUk5qArl9h"
      }
    },
    {
      "cell_type": "code",
      "source": [
        "class Node:\n",
        "  def __init__(self, data):\n",
        "    self.data = data\n",
        "    self.left = None\n",
        "    self.right = None\n",
        "\n",
        "def preorder(root):\n",
        "  if root is None:\n",
        "    return\n",
        "  print(root.data)\n",
        "  preorder(root.left)\n",
        "  preorder(root.right)\n",
        "Root = Node('R')\n",
        "nodeA = Node('A')\n",
        "nodeB = Node('B')\n",
        "nodeC = Node('C')\n",
        "nodeD = Node('D')\n",
        "nodeE = Node('E')\n",
        "nodeF = Node('F')\n",
        "\n",
        "Root.left = nodeA\n",
        "Root.right = nodeB\n",
        "\n",
        "nodeA.left = nodeC\n",
        "nodeA.right = nodeD\n",
        "\n",
        "nodeB.left =nodeE\n",
        "nodeB.right = nodeF\n",
        "\n",
        "preorder(Root)"
      ],
      "metadata": {
        "colab": {
          "base_uri": "https://localhost:8080/"
        },
        "id": "Br5Aug46rw3o",
        "outputId": "6a0ecde8-5269-489f-c9e7-ba7ef0196195"
      },
      "execution_count": null,
      "outputs": [
        {
          "output_type": "stream",
          "name": "stdout",
          "text": [
            "R\n",
            "A\n",
            "C\n",
            "D\n",
            "B\n",
            "E\n",
            "F\n"
          ]
        }
      ]
    },
    {
      "cell_type": "markdown",
      "source": [
        "# ***POST ORDER TREE TRAVERSAL***"
      ],
      "metadata": {
        "id": "PWPXUsHMsI-5"
      }
    },
    {
      "cell_type": "code",
      "source": [
        "class Node:\n",
        "  def __init__(self, data):\n",
        "    self.data = data\n",
        "    self.left = None\n",
        "    self.right = None\n",
        "\n",
        "def postorder(root):\n",
        "  if root is None:\n",
        "    return\n",
        "  postorder(root.left)\n",
        "  postorder(root.right)\n",
        "  print(root.data)\n",
        "Root = Node('R')\n",
        "nodeA = Node('A')\n",
        "nodeB = Node('B')\n",
        "nodeC = Node('C')\n",
        "nodeD = Node('D')\n",
        "nodeE = Node('E')\n",
        "nodeF = Node('F')\n",
        "\n",
        "Root.left = nodeA\n",
        "Root.right = nodeB\n",
        "\n",
        "nodeA.left = nodeC\n",
        "nodeA.right = nodeD\n",
        "\n",
        "nodeB.left =nodeE\n",
        "nodeB.right = nodeF\n",
        "\n",
        "postorder(Root)"
      ],
      "metadata": {
        "colab": {
          "base_uri": "https://localhost:8080/"
        },
        "id": "XT57GdfVsOVR",
        "outputId": "6558fca1-23a9-43bb-a4ab-54ce73ca20a1"
      },
      "execution_count": null,
      "outputs": [
        {
          "output_type": "stream",
          "name": "stdout",
          "text": [
            "C\n",
            "D\n",
            "A\n",
            "E\n",
            "F\n",
            "B\n",
            "R\n"
          ]
        }
      ]
    },
    {
      "cell_type": "markdown",
      "source": [
        "# ***ARRAY REPRESENTATION OF BINARY SEARCH TREE***"
      ],
      "metadata": {
        "id": "hV3NtggWvvqz"
      }
    },
    {
      "cell_type": "code",
      "source": [
        "binary_search_tree = ['R','A','B','C','D','E','F']\n",
        "\n",
        "def left_child(index):\n",
        "  return 2*index+1\n",
        "def right_child(index):\n",
        "  return 2*index+2\n",
        "\n",
        "def get_data(index):\n",
        "  if 0<index<len(binary_search_tree):\n",
        "    return binary_search_tree[index]\n",
        "  return None\n",
        "\n",
        "left_child1 = left_child(0)\n",
        "right_child1 = right_child(left_child1)\n",
        "data = get_data(right_child1)\n",
        "\n",
        "print(data)"
      ],
      "metadata": {
        "colab": {
          "base_uri": "https://localhost:8080/"
        },
        "id": "U4I9IDxytD6w",
        "outputId": "3211846a-1ea6-4fb9-915c-62b6a00437da"
      },
      "execution_count": null,
      "outputs": [
        {
          "output_type": "stream",
          "name": "stdout",
          "text": [
            "D\n"
          ]
        }
      ]
    },
    {
      "cell_type": "markdown",
      "source": [
        "# ***INORDER PREORDER POSTORDER TRAVERSALS OF TREE IN BINARY REPRESENTATION***"
      ],
      "metadata": {
        "id": "pyLr7fNOv3Y1"
      }
    },
    {
      "cell_type": "code",
      "source": [
        "binary_search_tree = ['R','A','B','C','D','E','F']\n",
        "\n",
        "def left_child(index):\n",
        "  return 2*index+1\n",
        "def right_child(index):\n",
        "  return 2*index+2\n",
        "\n",
        "def inorder(node):\n",
        "  if node >= len(binary_search_tree) or binary_search_tree[node] is None:\n",
        "    return []\n",
        "  return inorder(left_child(node)) + [binary_search_tree[node]]+ inorder(right_child(node))\n",
        "\n",
        "def preorder(node):\n",
        "  if node >= len(binary_search_tree) or binary_search_tree[node] is None:\n",
        "    return []\n",
        "  return [binary_search_tree[node]]+preorder(left_child(node)) + preorder(right_child(node))\n",
        "\n",
        "\n",
        "def postorder(node):\n",
        "  if node >= len(binary_search_tree) or binary_search_tree[node] is None:\n",
        "    return []\n",
        "  return postorder(left_child(node)) + postorder(right_child(node))+[binary_search_tree[node]]\n",
        "\n",
        "print(preorder(0))\n",
        "print(postorder(0))\n",
        "print(inorder(0))\n"
      ],
      "metadata": {
        "colab": {
          "base_uri": "https://localhost:8080/"
        },
        "id": "kM3CZWIAwFme",
        "outputId": "c8c657fb-88a5-4692-acdd-fc6af2e86ebd"
      },
      "execution_count": null,
      "outputs": [
        {
          "output_type": "stream",
          "name": "stdout",
          "text": [
            "['R', 'A', 'C', 'D', 'B', 'E', 'F']\n",
            "['C', 'D', 'A', 'E', 'F', 'B', 'R']\n",
            "['C', 'A', 'D', 'R', 'E', 'B', 'F']\n"
          ]
        }
      ]
    },
    {
      "cell_type": "markdown",
      "source": [
        "# ***SEARCH FOR A VALUE IN BINARY SEARCH TREE***"
      ],
      "metadata": {
        "id": "FxKf17bkpXtX"
      }
    },
    {
      "cell_type": "code",
      "source": [
        "class Node:\n",
        "  def __init__(self, data):\n",
        "    self.data = data\n",
        "    self.left = None\n",
        "    self.right = None\n",
        "\n",
        "def searchbst(node,value):\n",
        "  if node is None:\n",
        "    return None\n",
        "  elif node.data == value:\n",
        "    return node\n",
        "  elif node.data >value:\n",
        "    return searchbst(node.left,value)\n",
        "  else:\n",
        "    return searchbst(node.right,value)\n",
        "\n",
        "\n",
        "Root = Node(60)\n",
        "node1 = Node(30)\n",
        "node2 = Node(80)\n",
        "node3 = Node(40)\n",
        "node4 = Node(50)\n",
        "node5 = Node(70)\n",
        "node6 = Node(90)\n",
        "\n",
        "Root.left = node1\n",
        "Root.right = node2\n",
        "\n",
        "node1.left = node3\n",
        "node1.right = node4\n",
        "\n",
        "node2.left = node5\n",
        "node2.right = node6\n",
        "\n",
        "nodesearched = searchbst(Root, 30)\n",
        "\n",
        "if nodesearched:\n",
        "  print(nodesearched)\n",
        "else:\n",
        "  print(\"value not found\")\n"
      ],
      "metadata": {
        "colab": {
          "base_uri": "https://localhost:8080/"
        },
        "id": "S-qNkuPOpeiv",
        "outputId": "f07ad2ba-e18d-4769-f2e1-2580c0933d93"
      },
      "execution_count": null,
      "outputs": [
        {
          "output_type": "stream",
          "name": "stdout",
          "text": [
            "<__main__.Node object at 0x7f9194c45660>\n"
          ]
        }
      ]
    },
    {
      "cell_type": "markdown",
      "source": [
        "# ***INSERT NODE IN BST***"
      ],
      "metadata": {
        "id": "-ipNvnxntGmr"
      }
    },
    {
      "cell_type": "code",
      "source": [
        "class Node:\n",
        "  def __init__(self,data):\n",
        "    self.data = data\n",
        "    self.left = None\n",
        "    self.right = None\n",
        "def InsertNode(node,data):\n",
        "  if node is None:\n",
        "    return Node(data)\n",
        "  elif node.data>data:\n",
        "    node.left= InsertNode(node.left,data)\n",
        "  else:\n",
        "    node.right=  InsertNode(node.right,data)\n",
        "  return node\n",
        "\n",
        "def postorder(root):\n",
        "  if root is None:\n",
        "    return\n",
        "  postorder(root.left)\n",
        "  postorder(root.right)\n",
        "  print(root.data)\n",
        "\n",
        "Root = Node(60)\n",
        "node1 = Node(40)\n",
        "node2 = Node(80)\n",
        "node3 = Node(30)\n",
        "node4 = Node(50)\n",
        "node5 = Node(70)\n",
        "node6 = Node(90)\n",
        "\n",
        "Root.left = node1\n",
        "Root.right = node2\n",
        "\n",
        "node1.left = node3\n",
        "node1.right = node4\n",
        "\n",
        "node2.left = node5\n",
        "node2.right = node6\n",
        "postorder(Root)\n",
        "InsertNode(Root,45)\n",
        "\n",
        "postorder(Root)"
      ],
      "metadata": {
        "colab": {
          "base_uri": "https://localhost:8080/"
        },
        "id": "J4N37tj5tKo9",
        "outputId": "f729f706-3d4e-4ad3-bb06-aa61bb9461e5"
      },
      "execution_count": null,
      "outputs": [
        {
          "output_type": "stream",
          "name": "stdout",
          "text": [
            "30\n",
            "50\n",
            "40\n",
            "70\n",
            "90\n",
            "80\n",
            "60\n",
            "30\n",
            "45\n",
            "50\n",
            "40\n",
            "70\n",
            "90\n",
            "80\n",
            "60\n"
          ]
        }
      ]
    },
    {
      "cell_type": "markdown",
      "source": [
        "# *LOWEST VALUE IN BST*"
      ],
      "metadata": {
        "id": "4byo5h0q9m-u"
      }
    },
    {
      "cell_type": "code",
      "source": [
        "class Node:\n",
        "  def __init__(self,data):\n",
        "    self.data = data\n",
        "    self.left = None\n",
        "    self.right = None\n",
        "\n",
        "def findLowest(node):\n",
        "  if node is None:\n",
        "    return None\n",
        "  while(node.left):\n",
        "    node= node.left\n",
        "  return node.data\n",
        "\n",
        "Root = Node(60)\n",
        "node1 = Node(40)\n",
        "node2 = Node(80)\n",
        "node3 = Node(30)\n",
        "node4 = Node(50)\n",
        "node5 = Node(70)\n",
        "node6 = Node(90)\n",
        "\n",
        "Root.left = node1\n",
        "Root.right = node2\n",
        "\n",
        "node1.left = node3\n",
        "node1.right = node4\n",
        "\n",
        "node2.left = node5\n",
        "node2.right = node6\n",
        "\n",
        "result = findLowest(Root)\n",
        "if result:\n",
        "  print(result)\n",
        "else:\n",
        "  print(\"Not found\")"
      ],
      "metadata": {
        "colab": {
          "base_uri": "https://localhost:8080/"
        },
        "id": "Pdlb_8mm9r7S",
        "outputId": "bedee9c6-8dfc-4278-f5d2-3be9ac2cd89b"
      },
      "execution_count": null,
      "outputs": [
        {
          "output_type": "stream",
          "name": "stdout",
          "text": [
            "30\n"
          ]
        }
      ]
    },
    {
      "cell_type": "markdown",
      "source": [
        "# ***DELETE NODE IN BST***"
      ],
      "metadata": {
        "id": "BkylxMIf_wci"
      }
    },
    {
      "cell_type": "code",
      "source": [
        "class Node:\n",
        "  def __init__(self,data):\n",
        "    self.data = data\n",
        "    self.left = None\n",
        "    self.right = None\n",
        "\n",
        "def findLowest(node):\n",
        "  if node is None:\n",
        "    return None\n",
        "  while(node.left):\n",
        "    node= node.left\n",
        "  return node\n",
        "\n",
        "\n",
        "def postorder(root):\n",
        "  if root is None:\n",
        "    return\n",
        "  postorder(root.left)\n",
        "  postorder(root.right)\n",
        "  print(root.data)\n",
        "\n",
        "\n",
        "def deleteNode(node,value):\n",
        "  if Root is None:\n",
        "    return None\n",
        "  if node.data > value:\n",
        "    node.left = deleteNode(node.left,value)\n",
        "  elif node.data < value:\n",
        "    node.right = deleteNode(node.right,value)\n",
        "  else:\n",
        "    if not node.right:\n",
        "      temp = node.left\n",
        "      node = None\n",
        "      return temp\n",
        "    if not node.left:\n",
        "      temp = node.right\n",
        "      node = None\n",
        "      return temp\n",
        "    else:\n",
        "      node.data = findLowest(node.right).data\n",
        "      node.right = deleteNode(node.right,node.data)\n",
        "  return node\n",
        "\n",
        "\n",
        "Root = Node(60)\n",
        "node1 = Node(40)\n",
        "node2 = Node(80)\n",
        "node3 = Node(30)\n",
        "node4 = Node(50)\n",
        "node5 = Node(70)\n",
        "node6 = Node(90)\n",
        "\n",
        "Root.left = node1\n",
        "Root.right = node2\n",
        "\n",
        "node1.left = node3\n",
        "node1.right = node4\n",
        "\n",
        "node2.left = node5\n",
        "node2.right = node6\n",
        "\n",
        "postorder(Root)\n",
        "\n",
        "deleteNode(Root,60)\n",
        "\n",
        "postorder(Root)"
      ],
      "metadata": {
        "colab": {
          "base_uri": "https://localhost:8080/"
        },
        "id": "xsLM1vkW_1UR",
        "outputId": "60a37ea9-1662-4bbc-fd00-e30a64a80916"
      },
      "execution_count": null,
      "outputs": [
        {
          "output_type": "stream",
          "name": "stdout",
          "text": [
            "30\n",
            "50\n",
            "40\n",
            "70\n",
            "90\n",
            "80\n",
            "60\n",
            "30\n",
            "50\n",
            "40\n",
            "90\n",
            "80\n",
            "70\n"
          ]
        }
      ]
    },
    {
      "cell_type": "markdown",
      "source": [
        "# ***HAPPY NUMBER***"
      ],
      "metadata": {
        "id": "6zJVZvQWlyC6"
      }
    },
    {
      "cell_type": "code",
      "source": [
        " for i in range (3,50):\n",
        "  number = i\n",
        "  sum =0\n",
        "  while(number>4):\n",
        "    sum = 0\n",
        "    while(number>0):\n",
        "      sub_val  = number%10\n",
        "      number = number//10\n",
        "      sum += sub_val*sub_val\n",
        "    number = sum\n",
        "  if sum==1:\n",
        "    print(i, end = \" \")"
      ],
      "metadata": {
        "colab": {
          "base_uri": "https://localhost:8080/"
        },
        "id": "BisvFfVQqfgo",
        "outputId": "0223c0dc-c202-474b-fed2-8d6c2316f139"
      },
      "execution_count": null,
      "outputs": [
        {
          "output_type": "stream",
          "name": "stdout",
          "text": [
            "7 10 13 19 23 28 31 32 44 49 "
          ]
        }
      ]
    },
    {
      "cell_type": "markdown",
      "source": [
        "# ***SUM OF SQUARES***"
      ],
      "metadata": {
        "id": "erwQsjMWrBoF"
      }
    },
    {
      "cell_type": "code",
      "source": [
        "number = 35\n",
        "sum = 0\n",
        "while(number >0):\n",
        "  sub_val = number%10\n",
        "  number=number//10\n",
        "  print(sub_val)\n",
        "  sum += sub_val*sub_val\n",
        "print(sum)\n",
        "\n",
        "\n"
      ],
      "metadata": {
        "colab": {
          "base_uri": "https://localhost:8080/"
        },
        "id": "Gm1qWj1rqhEw",
        "outputId": "7f4aa521-f6a2-449d-9ec8-4b9d80732063"
      },
      "execution_count": null,
      "outputs": [
        {
          "output_type": "stream",
          "name": "stdout",
          "text": [
            "5\n",
            "3\n",
            "34\n"
          ]
        }
      ]
    },
    {
      "cell_type": "markdown",
      "source": [
        "# ***LEARNING SERIALIZATION***"
      ],
      "metadata": {
        "id": "iVRlVzeMJ5bG"
      }
    },
    {
      "cell_type": "code",
      "source": [
        "import json\n",
        "def add_employee(salaries, name, salary):\n",
        "  emp_salaries = json.loads(salaries)\n",
        "  emp_salaries[name]= salary\n",
        "  return json.dumps(emp_salaries)\n",
        "salaries = '{\"John\":200, \"kennedy\":300}\n",
        "new_salaries = add_employee(emp_salaries,\"Me\",80)\n",
        "new_sal = json.loads(new_salaries)\n",
        "print(new_sal)\n",
        "print(new_sal[John])\n",
        "print(new_sal[kennedy])\n",
        "print(new_sal[Me])"
      ],
      "metadata": {
        "colab": {
          "base_uri": "https://localhost:8080/",
          "height": 106
        },
        "id": "8XDyjfS_KLaB",
        "outputId": "aafffd8f-4a66-4c56-b583-595215669fe7"
      },
      "execution_count": null,
      "outputs": [
        {
          "output_type": "error",
          "ename": "SyntaxError",
          "evalue": "unterminated string literal (detected at line 6) (<ipython-input-1-b1bb87867bce>, line 6)",
          "traceback": [
            "\u001b[0;36m  File \u001b[0;32m\"<ipython-input-1-b1bb87867bce>\"\u001b[0;36m, line \u001b[0;32m6\u001b[0m\n\u001b[0;31m    salaries = '{\"John\":200, \"kennedy\":300}\u001b[0m\n\u001b[0m               ^\u001b[0m\n\u001b[0;31mSyntaxError\u001b[0m\u001b[0;31m:\u001b[0m unterminated string literal (detected at line 6)\n"
          ]
        }
      ]
    },
    {
      "cell_type": "code",
      "source": [
        "import time\n",
        "dir(time)"
      ],
      "metadata": {
        "colab": {
          "base_uri": "https://localhost:8080/"
        },
        "id": "pXw1TxClnU3l",
        "outputId": "a0a529bc-903a-4bd9-de81-f8cc11b4d9eb"
      },
      "execution_count": null,
      "outputs": [
        {
          "output_type": "execute_result",
          "data": {
            "text/plain": [
              "['CLOCK_BOOTTIME',\n",
              " 'CLOCK_MONOTONIC',\n",
              " 'CLOCK_MONOTONIC_RAW',\n",
              " 'CLOCK_PROCESS_CPUTIME_ID',\n",
              " 'CLOCK_REALTIME',\n",
              " 'CLOCK_TAI',\n",
              " 'CLOCK_THREAD_CPUTIME_ID',\n",
              " '_STRUCT_TM_ITEMS',\n",
              " '__doc__',\n",
              " '__loader__',\n",
              " '__name__',\n",
              " '__package__',\n",
              " '__spec__',\n",
              " 'altzone',\n",
              " 'asctime',\n",
              " 'clock_getres',\n",
              " 'clock_gettime',\n",
              " 'clock_gettime_ns',\n",
              " 'clock_settime',\n",
              " 'clock_settime_ns',\n",
              " 'ctime',\n",
              " 'daylight',\n",
              " 'get_clock_info',\n",
              " 'gmtime',\n",
              " 'localtime',\n",
              " 'mktime',\n",
              " 'monotonic',\n",
              " 'monotonic_ns',\n",
              " 'perf_counter',\n",
              " 'perf_counter_ns',\n",
              " 'process_time',\n",
              " 'process_time_ns',\n",
              " 'pthread_getcpuclockid',\n",
              " 'sleep',\n",
              " 'strftime',\n",
              " 'strptime',\n",
              " 'struct_time',\n",
              " 'thread_time',\n",
              " 'thread_time_ns',\n",
              " 'time',\n",
              " 'time_ns',\n",
              " 'timezone',\n",
              " 'tzname',\n",
              " 'tzset']"
            ]
          },
          "metadata": {},
          "execution_count": 4
        }
      ]
    },
    {
      "cell_type": "markdown",
      "source": [],
      "metadata": {
        "id": "pgBlNX1gKLBr"
      }
    },
    {
      "cell_type": "code",
      "source": [
        "help(time.tzname)"
      ],
      "metadata": {
        "colab": {
          "base_uri": "https://localhost:8080/"
        },
        "id": "bpPxfugwowAR",
        "outputId": "3ddd0b82-a035-4ee1-fbf1-1a1a8d47d558"
      },
      "execution_count": null,
      "outputs": [
        {
          "output_type": "stream",
          "name": "stdout",
          "text": [
            "Help on tuple object:\n",
            "\n",
            "class tuple(object)\n",
            " |  tuple(iterable=(), /)\n",
            " |  \n",
            " |  Built-in immutable sequence.\n",
            " |  \n",
            " |  If no argument is given, the constructor returns an empty tuple.\n",
            " |  If iterable is specified the tuple is initialized from iterable's items.\n",
            " |  \n",
            " |  If the argument is a tuple, the return value is the same object.\n",
            " |  \n",
            " |  Built-in subclasses:\n",
            " |      asyncgen_hooks\n",
            " |      UnraisableHookArgs\n",
            " |  \n",
            " |  Methods defined here:\n",
            " |  \n",
            " |  __add__(self, value, /)\n",
            " |      Return self+value.\n",
            " |  \n",
            " |  __contains__(self, key, /)\n",
            " |      Return key in self.\n",
            " |  \n",
            " |  __eq__(self, value, /)\n",
            " |      Return self==value.\n",
            " |  \n",
            " |  __ge__(self, value, /)\n",
            " |      Return self>=value.\n",
            " |  \n",
            " |  __getattribute__(self, name, /)\n",
            " |      Return getattr(self, name).\n",
            " |  \n",
            " |  __getitem__(self, key, /)\n",
            " |      Return self[key].\n",
            " |  \n",
            " |  __getnewargs__(self, /)\n",
            " |  \n",
            " |  __gt__(self, value, /)\n",
            " |      Return self>value.\n",
            " |  \n",
            " |  __hash__(self, /)\n",
            " |      Return hash(self).\n",
            " |  \n",
            " |  __iter__(self, /)\n",
            " |      Implement iter(self).\n",
            " |  \n",
            " |  __le__(self, value, /)\n",
            " |      Return self<=value.\n",
            " |  \n",
            " |  __len__(self, /)\n",
            " |      Return len(self).\n",
            " |  \n",
            " |  __lt__(self, value, /)\n",
            " |      Return self<value.\n",
            " |  \n",
            " |  __mul__(self, value, /)\n",
            " |      Return self*value.\n",
            " |  \n",
            " |  __ne__(self, value, /)\n",
            " |      Return self!=value.\n",
            " |  \n",
            " |  __repr__(self, /)\n",
            " |      Return repr(self).\n",
            " |  \n",
            " |  __rmul__(self, value, /)\n",
            " |      Return value*self.\n",
            " |  \n",
            " |  count(self, value, /)\n",
            " |      Return number of occurrences of value.\n",
            " |  \n",
            " |  index(self, value, start=0, stop=9223372036854775807, /)\n",
            " |      Return first index of value.\n",
            " |      \n",
            " |      Raises ValueError if the value is not present.\n",
            " |  \n",
            " |  ----------------------------------------------------------------------\n",
            " |  Class methods defined here:\n",
            " |  \n",
            " |  __class_getitem__(...) from builtins.type\n",
            " |      See PEP 585\n",
            " |  \n",
            " |  ----------------------------------------------------------------------\n",
            " |  Static methods defined here:\n",
            " |  \n",
            " |  __new__(*args, **kwargs) from builtins.type\n",
            " |      Create and return a new object.  See help(type) for accurate signature.\n",
            "\n"
          ]
        }
      ]
    },
    {
      "cell_type": "code",
      "source": [
        "import matplotlib\n",
        "dir(matplotlib)"
      ],
      "metadata": {
        "colab": {
          "base_uri": "https://localhost:8080/"
        },
        "id": "L-rBCpAtpFXC",
        "outputId": "37978738-72b8-4603-adf9-be8be3da2e6f"
      },
      "execution_count": null,
      "outputs": [
        {
          "output_type": "execute_result",
          "data": {
            "text/plain": [
              "['ExecutableNotFoundError',\n",
              " 'MatplotlibDeprecationWarning',\n",
              " 'MutableMapping',\n",
              " 'Parameter',\n",
              " 'Path',\n",
              " 'RcParams',\n",
              " '_ExecInfo',\n",
              " '_VersionInfo',\n",
              " '__bibtex__',\n",
              " '__builtins__',\n",
              " '__cached__',\n",
              " '__doc__',\n",
              " '__file__',\n",
              " '__getattr__',\n",
              " '__loader__',\n",
              " '__name__',\n",
              " '__package__',\n",
              " '__path__',\n",
              " '__spec__',\n",
              " '_add_data_doc',\n",
              " '_afm',\n",
              " '_api',\n",
              " '_blocking_input',\n",
              " '_c_internal_utils',\n",
              " '_check_versions',\n",
              " '_cm',\n",
              " '_cm_listed',\n",
              " '_color_data',\n",
              " '_constrained_layout',\n",
              " '_deprecated_ignore_map',\n",
              " '_deprecated_map',\n",
              " '_deprecated_remain_as_none',\n",
              " '_docstring',\n",
              " '_ensure_handler',\n",
              " '_enums',\n",
              " '_fontconfig_pattern',\n",
              " '_get_config_or_cache_dir',\n",
              " '_get_executable_info',\n",
              " '_get_ssl_context',\n",
              " '_get_version',\n",
              " '_get_xdg_cache_dir',\n",
              " '_get_xdg_config_dir',\n",
              " '_image',\n",
              " '_init_tests',\n",
              " '_label_from_arg',\n",
              " '_layoutgrid',\n",
              " '_log',\n",
              " '_logged_cached',\n",
              " '_mathtext',\n",
              " '_mathtext_data',\n",
              " '_open_file_or_url',\n",
              " '_parse_to_version_info',\n",
              " '_path',\n",
              " '_preprocess_data',\n",
              " '_pylab_helpers',\n",
              " '_rc_params_in_file',\n",
              " '_replacer',\n",
              " '_text_helpers',\n",
              " '_tight_bbox',\n",
              " '_tight_layout',\n",
              " '_version',\n",
              " 'artist',\n",
              " 'atexit',\n",
              " 'axes',\n",
              " 'axis',\n",
              " 'backend_bases',\n",
              " 'backend_managers',\n",
              " 'backend_tools',\n",
              " 'backends',\n",
              " 'bezier',\n",
              " 'category',\n",
              " 'cbook',\n",
              " 'checkdep_usetex',\n",
              " 'cm',\n",
              " 'collections',\n",
              " 'color_sequences',\n",
              " 'colorbar',\n",
              " 'colormaps',\n",
              " 'colors',\n",
              " 'container',\n",
              " 'contextlib',\n",
              " 'contour',\n",
              " 'cycler',\n",
              " 'dates',\n",
              " 'defaultParams',\n",
              " 'dviread',\n",
              " 'figure',\n",
              " 'font_manager',\n",
              " 'ft2font',\n",
              " 'functools',\n",
              " 'get_backend',\n",
              " 'get_cachedir',\n",
              " 'get_configdir',\n",
              " 'get_data_path',\n",
              " 'gridspec',\n",
              " 'hatch',\n",
              " 'image',\n",
              " 'importlib',\n",
              " 'inspect',\n",
              " 'interactive',\n",
              " 'is_interactive',\n",
              " 'layout_engine',\n",
              " 'legend',\n",
              " 'legend_handler',\n",
              " 'lines',\n",
              " 'locale',\n",
              " 'logging',\n",
              " 'markers',\n",
              " 'mathtext',\n",
              " 'matplotlib_fname',\n",
              " 'mlab',\n",
              " 'namedtuple',\n",
              " 'numpy',\n",
              " 'offsetbox',\n",
              " 'os',\n",
              " 'parse_version',\n",
              " 'patches',\n",
              " 'path',\n",
              " 'pprint',\n",
              " 'projections',\n",
              " 'pyplot',\n",
              " 'quiver',\n",
              " 'rc',\n",
              " 'rcParams',\n",
              " 'rcParamsDefault',\n",
              " 'rcParamsOrig',\n",
              " 'rc_context',\n",
              " 'rc_file',\n",
              " 'rc_file_defaults',\n",
              " 'rc_params',\n",
              " 'rc_params_from_file',\n",
              " 'rcdefaults',\n",
              " 'rcsetup',\n",
              " 're',\n",
              " 'sanitize_sequence',\n",
              " 'scale',\n",
              " 'set_loglevel',\n",
              " 'shutil',\n",
              " 'spines',\n",
              " 'stackplot',\n",
              " 'streamplot',\n",
              " 'style',\n",
              " 'subprocess',\n",
              " 'sys',\n",
              " 'table',\n",
              " 'tempfile',\n",
              " 'texmanager',\n",
              " 'text',\n",
              " 'textpath',\n",
              " 'ticker',\n",
              " 'transforms',\n",
              " 'tri',\n",
              " 'units',\n",
              " 'use',\n",
              " 'validate_backend',\n",
              " 'warnings',\n",
              " 'widgets']"
            ]
          },
          "metadata": {},
          "execution_count": 9
        }
      ]
    }
  ]
}